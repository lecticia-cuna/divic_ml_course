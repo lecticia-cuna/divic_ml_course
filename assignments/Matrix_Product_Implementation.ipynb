{
 "cells": [
  {
   "cell_type": "markdown",
   "id": "96dbb02d",
   "metadata": {},
   "source": [
    "# Problem 1\n",
    "### Matrix product is calculated manually"
   ]
  },
  {
   "cell_type": "markdown",
   "id": "87f78f89",
   "metadata": {},
   "source": [
    "\n",
    "\n",
    "A=\\begin{bmatrix} -1 & 2 & 3 \\\\ 4 & -5 & 6 \\\\ 7 & 8 & -9 \\end{bmatrix},\n",
    "B=\\begin{bmatrix} 0 & 2 & 1 \\\\ 0 & 2 & -8 \\\\ 2 & 9 & -1 \\end{bmatrix}\n",
    "\n",
    "\n",
    "## **Calculation process**\n",
    "\n",
    "**First: Inter-multiplication of every matrix element :**\n",
    "\n",
    "\\begin{bmatrix}\n",
    "(-1*0)+(2*0)+(3*2)&(-1*2)+(2*2)+(3*9)&(-1*1)+(2*-8)+(3*-1)\\\\\n",
    "(4*0)+(-5*0)+(6*2)&(4*2)+(-5*2)+(6*9)&(4*1)+(-5*-8)+(6*-1)\\\\\n",
    "(7*0)+(8*0)+(-9*2)&(7*2)+(8*2)+(-9*9)&(7*1)+(8*-8)+(-9*-1)\\\\\n",
    "\\end{bmatrix},\n",
    "\n",
    "\n",
    "\n",
    "**Then: Add each part of the matrix**\n",
    "\n",
    "\\begin{bmatrix}\n",
    "(O+0+6)&(-2+4+27)&(-1-16-3)\\\\\n",
    "(O+0+12)&(8-10+54)&(4+40-6)\\\\\n",
    "(O+0-18)&(14+16-81)&(7-64+9)\\\\\n",
    "\\end{bmatrix},\n",
    "\n",
    "\n",
    "**Result:**\n",
    "\n",
    "\\begin{pmatrix} \n",
    "6&29&-20\\\\\n",
    "12&52&38\\\\\n",
    "-18&-51&-48\n",
    "\\end{pmatrix}\n"
   ]
  },
  {
   "cell_type": "markdown",
   "id": "781fc1d6",
   "metadata": {},
   "source": [
    "# Problem 2\n",
    "### Calculation by NumPy function"
   ]
  },
  {
   "cell_type": "code",
   "execution_count": 1,
   "id": "dee60d4c",
   "metadata": {},
   "outputs": [
    {
     "name": "stdout",
     "output_type": "stream",
     "text": [
      "[[  6  29 -20]\n",
      " [ 12  52  38]\n",
      " [-18 -51 -48]]\n"
     ]
    }
   ],
   "source": [
    "import   numpy   as  np\n",
    "ndarray_A = np.array([[-1, 2, 3], [4, -5, 6], [7, 8, -9]])\n",
    "ndarray_B = np.array([[0, 2, 1], [0, 2, -8], [2, 9, -1]])\n",
    "ndarray_A_B = np.matmul(ndarray_A,ndarray_B)\n",
    "print(ndarray_A_B)"
   ]
  },
  {
   "cell_type": "markdown",
   "id": "af8e0016",
   "metadata": {},
   "source": [
    "# Problem 3\n",
    "### Implementation of calculation of a certain element"
   ]
  },
  {
   "cell_type": "code",
   "execution_count": 5,
   "id": "196eee9d",
   "metadata": {},
   "outputs": [
    {
     "data": {
      "text/plain": [
       "52"
      ]
     },
     "execution_count": 5,
     "metadata": {},
     "output_type": "execute_result"
    }
   ],
   "source": [
    "sum_matrix = (ndarray_A[1][0]*ndarray_B[0][1])+(ndarray_A[1][1]*ndarray_B[1][1])+(ndarray_A[1][2]*ndarray_B[2][1])\n",
    "sum_matrix"
   ]
  },
  {
   "cell_type": "markdown",
   "id": "cf44051b",
   "metadata": {},
   "source": [
    "# Problem 4\n",
    "### Creating a function that performs matrix multiplication"
   ]
  },
  {
   "cell_type": "code",
   "execution_count": 2,
   "id": "717063d7",
   "metadata": {},
   "outputs": [
    {
     "name": "stdout",
     "output_type": "stream",
     "text": [
      "[[  6.  29. -20.]\n",
      " [ 12.  52.  38.]\n",
      " [-18. -51. -48.]]\n"
     ]
    }
   ],
   "source": [
    "def product_of_matrix(a, b):\n",
    "    ndarray_A_B = np.empty([3,3])\n",
    "    for row in range(a.shape[0]):\n",
    "        for column in range(b.shape[1]):\n",
    "            ndarray_A_B[row][column] = sum(a[row, :]*b[:, column])\n",
    "    return ndarray_A_B\n",
    "print(product_of_matrix(ndarray_A, ndarray_B))"
   ]
  },
  {
   "cell_type": "markdown",
   "id": "a95432d6",
   "metadata": {},
   "source": [
    "# Problem 5\n",
    "### Judge the input whose calculation is not defined"
   ]
  },
  {
   "cell_type": "code",
   "execution_count": 6,
   "id": "ea0f77d1",
   "metadata": {},
   "outputs": [
    {
     "name": "stdout",
     "output_type": "stream",
     "text": [
      "Error: Matrix dimensions are not compatible for multiplication.\n"
     ]
    }
   ],
   "source": [
    "import numpy as np\n",
    "\n",
    "def product_of_matrix(matrix1, matrix2):\n",
    "    if matrix1.shape[1] != matrix2.shape[0]:\n",
    "        print(\"Error: Matrix dimensions are not compatible for multiplication.\")\n",
    "        return None\n",
    "    return np.dot(matrix1, matrix2)\n",
    "\n",
    "def perform_matrix_multiplication(matrix1, matrix2):\n",
    "    result_matrix = product_of_matrix(matrix1, matrix2)\n",
    "    \n",
    "    if result_matrix is not None:\n",
    "        print(\"Result of matrix multiplication:\")\n",
    "        print(result_matrix)\n",
    "\n",
    "d_ndarray = np.array([[-1, 2, 3], [4, -5, 6]])\n",
    "e_ndarray = np.array([[-9, 8, 7], [6, -5, 4]])\n",
    "\n",
    "perform_matrix_multiplication(d_ndarray, e_ndarray)\n"
   ]
  },
  {
   "cell_type": "markdown",
   "id": "a319592a",
   "metadata": {},
   "source": [
    "# Problem 6\n",
    "### Transposition\n"
   ]
  },
  {
   "cell_type": "code",
   "execution_count": 12,
   "id": "cef96b04",
   "metadata": {},
   "outputs": [
    {
     "name": "stdout",
     "output_type": "stream",
     "text": [
      "[[ 33 -28   9]\n",
      " [-48  41  -6]\n",
      " [  9  -6  45]]\n"
     ]
    }
   ],
   "source": [
    "f = d_ndarray.T\n",
    "print(product_of_matrix(f, e_ndarray))"
   ]
  },
  {
   "cell_type": "code",
   "execution_count": null,
   "id": "c480a8c5",
   "metadata": {},
   "outputs": [],
   "source": []
  }
 ],
 "metadata": {
  "kernelspec": {
   "display_name": "Python 3 (ipykernel)",
   "language": "python",
   "name": "python3"
  },
  "language_info": {
   "codemirror_mode": {
    "name": "ipython",
    "version": 3
   },
   "file_extension": ".py",
   "mimetype": "text/x-python",
   "name": "python",
   "nbconvert_exporter": "python",
   "pygments_lexer": "ipython3",
   "version": "3.9.12"
  }
 },
 "nbformat": 4,
 "nbformat_minor": 5
}
