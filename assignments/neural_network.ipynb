{
  "nbformat": 4,
  "nbformat_minor": 5,
  "metadata": {
    "kernelspec": {
      "display_name": "Python 3",
      "language": "python",
      "name": "python3"
    },
    "language_info": {
      "codemirror_mode": {
        "name": "ipython",
        "version": 3
      },
      "file_extension": ".py",
      "mimetype": "text/x-python",
      "name": "python",
      "nbconvert_exporter": "python",
      "pygments_lexer": "ipython3",
      "version": "3.8.8"
    },
    "colab": {
      "name": "neural_network.ipynb",
      "provenance": []
    }
  },
  "cells": [
    {
      "cell_type": "markdown",
      "metadata": {
        "id": "ZbsB9D0m9Z2N"
      },
      "source": [
        ""
      ],
      "id": "ZbsB9D0m9Z2N"
    },
    {
      "cell_type": "code",
      "metadata": {
        "id": "4b8a0427"
      },
      "source": [
        "import numpy as np\n",
        "import pandas as pd\n",
        "import matplotlib.pyplot as plt\n",
        "%matplotlib inline\n",
        "\n",
        "from sklearn.model_selection import train_test_split\n",
        "from sklearn.metrics import accuracy_score"
      ],
      "id": "4b8a0427",
      "execution_count": 1,
      "outputs": []
    },
    {
      "cell_type": "markdown",
      "metadata": {
        "id": "1e7837cc"
      },
      "source": [
        "# MNIST Dataset"
      ],
      "id": "1e7837cc"
    },
    {
      "cell_type": "code",
      "metadata": {
        "colab": {
          "base_uri": "https://localhost:8080/"
        },
        "id": "816f3215",
        "outputId": "e0cba930-5683-4bc2-9483-92539941beab"
      },
      "source": [
        "from keras.datasets import mnist\n",
        "(X_train, y_train), (X_test, y_test) = mnist.load_data()"
      ],
      "id": "816f3215",
      "execution_count": 2,
      "outputs": [
        {
          "output_type": "stream",
          "text": [
            "Downloading data from https://storage.googleapis.com/tensorflow/tf-keras-datasets/mnist.npz\n",
            "11493376/11490434 [==============================] - 0s 0us/step\n",
            "11501568/11490434 [==============================] - 0s 0us/step\n"
          ],
          "name": "stdout"
        }
      ]
    },
    {
      "cell_type": "code",
      "metadata": {
        "colab": {
          "base_uri": "https://localhost:8080/"
        },
        "id": "a04fdbed",
        "outputId": "fd20e98a-97cc-4751-f8b2-d2993ad8f224"
      },
      "source": [
        "print(X_train.shape) # (60000, 28, 28)\n",
        "print(X_test.shape) # (10000, 28, 28)\n",
        "print(X_train[0].dtype) # uint8\n",
        "print(X_train[0])"
      ],
      "id": "a04fdbed",
      "execution_count": 3,
      "outputs": [
        {
          "output_type": "stream",
          "text": [
            "(60000, 28, 28)\n",
            "(10000, 28, 28)\n",
            "uint8\n",
            "[[  0   0   0   0   0   0   0   0   0   0   0   0   0   0   0   0   0   0\n",
            "    0   0   0   0   0   0   0   0   0   0]\n",
            " [  0   0   0   0   0   0   0   0   0   0   0   0   0   0   0   0   0   0\n",
            "    0   0   0   0   0   0   0   0   0   0]\n",
            " [  0   0   0   0   0   0   0   0   0   0   0   0   0   0   0   0   0   0\n",
            "    0   0   0   0   0   0   0   0   0   0]\n",
            " [  0   0   0   0   0   0   0   0   0   0   0   0   0   0   0   0   0   0\n",
            "    0   0   0   0   0   0   0   0   0   0]\n",
            " [  0   0   0   0   0   0   0   0   0   0   0   0   0   0   0   0   0   0\n",
            "    0   0   0   0   0   0   0   0   0   0]\n",
            " [  0   0   0   0   0   0   0   0   0   0   0   0   3  18  18  18 126 136\n",
            "  175  26 166 255 247 127   0   0   0   0]\n",
            " [  0   0   0   0   0   0   0   0  30  36  94 154 170 253 253 253 253 253\n",
            "  225 172 253 242 195  64   0   0   0   0]\n",
            " [  0   0   0   0   0   0   0  49 238 253 253 253 253 253 253 253 253 251\n",
            "   93  82  82  56  39   0   0   0   0   0]\n",
            " [  0   0   0   0   0   0   0  18 219 253 253 253 253 253 198 182 247 241\n",
            "    0   0   0   0   0   0   0   0   0   0]\n",
            " [  0   0   0   0   0   0   0   0  80 156 107 253 253 205  11   0  43 154\n",
            "    0   0   0   0   0   0   0   0   0   0]\n",
            " [  0   0   0   0   0   0   0   0   0  14   1 154 253  90   0   0   0   0\n",
            "    0   0   0   0   0   0   0   0   0   0]\n",
            " [  0   0   0   0   0   0   0   0   0   0   0 139 253 190   2   0   0   0\n",
            "    0   0   0   0   0   0   0   0   0   0]\n",
            " [  0   0   0   0   0   0   0   0   0   0   0  11 190 253  70   0   0   0\n",
            "    0   0   0   0   0   0   0   0   0   0]\n",
            " [  0   0   0   0   0   0   0   0   0   0   0   0  35 241 225 160 108   1\n",
            "    0   0   0   0   0   0   0   0   0   0]\n",
            " [  0   0   0   0   0   0   0   0   0   0   0   0   0  81 240 253 253 119\n",
            "   25   0   0   0   0   0   0   0   0   0]\n",
            " [  0   0   0   0   0   0   0   0   0   0   0   0   0   0  45 186 253 253\n",
            "  150  27   0   0   0   0   0   0   0   0]\n",
            " [  0   0   0   0   0   0   0   0   0   0   0   0   0   0   0  16  93 252\n",
            "  253 187   0   0   0   0   0   0   0   0]\n",
            " [  0   0   0   0   0   0   0   0   0   0   0   0   0   0   0   0   0 249\n",
            "  253 249  64   0   0   0   0   0   0   0]\n",
            " [  0   0   0   0   0   0   0   0   0   0   0   0   0   0  46 130 183 253\n",
            "  253 207   2   0   0   0   0   0   0   0]\n",
            " [  0   0   0   0   0   0   0   0   0   0   0   0  39 148 229 253 253 253\n",
            "  250 182   0   0   0   0   0   0   0   0]\n",
            " [  0   0   0   0   0   0   0   0   0   0  24 114 221 253 253 253 253 201\n",
            "   78   0   0   0   0   0   0   0   0   0]\n",
            " [  0   0   0   0   0   0   0   0  23  66 213 253 253 253 253 198  81   2\n",
            "    0   0   0   0   0   0   0   0   0   0]\n",
            " [  0   0   0   0   0   0  18 171 219 253 253 253 253 195  80   9   0   0\n",
            "    0   0   0   0   0   0   0   0   0   0]\n",
            " [  0   0   0   0  55 172 226 253 253 253 253 244 133  11   0   0   0   0\n",
            "    0   0   0   0   0   0   0   0   0   0]\n",
            " [  0   0   0   0 136 253 253 253 212 135 132  16   0   0   0   0   0   0\n",
            "    0   0   0   0   0   0   0   0   0   0]\n",
            " [  0   0   0   0   0   0   0   0   0   0   0   0   0   0   0   0   0   0\n",
            "    0   0   0   0   0   0   0   0   0   0]\n",
            " [  0   0   0   0   0   0   0   0   0   0   0   0   0   0   0   0   0   0\n",
            "    0   0   0   0   0   0   0   0   0   0]\n",
            " [  0   0   0   0   0   0   0   0   0   0   0   0   0   0   0   0   0   0\n",
            "    0   0   0   0   0   0   0   0   0   0]]\n"
          ],
          "name": "stdout"
        }
      ]
    },
    {
      "cell_type": "markdown",
      "metadata": {
        "id": "1c4ff028"
      },
      "source": [
        "# Smoothing"
      ],
      "id": "1c4ff028"
    },
    {
      "cell_type": "code",
      "metadata": {
        "id": "c1166834"
      },
      "source": [
        "X_train = X_train.reshape(-1, 784)\n",
        "X_test = X_test.reshape(-1, 784)"
      ],
      "id": "c1166834",
      "execution_count": 4,
      "outputs": []
    },
    {
      "cell_type": "code",
      "metadata": {
        "colab": {
          "base_uri": "https://localhost:8080/",
          "height": 281
        },
        "id": "28e4d743",
        "outputId": "6b98e743-1b19-4efe-dfea-49c31ed623d3"
      },
      "source": [
        "import matplotlib.pyplot as plt\n",
        "%matplotlib inline\n",
        "index = 0\n",
        "image = X_train[index].reshape(28,28)\n",
        "# X_train[index]: (784,)\n",
        "# image: (28, 28)\n",
        "plt.imshow(image, 'gray')\n",
        "plt.title('label : {}'.format(y_train[index]))\n",
        "plt.show()"
      ],
      "id": "28e4d743",
      "execution_count": 5,
      "outputs": [
        {
          "output_type": "display_data",
          "data": {
            "image/png": "[encoded data removed]",
            "text/plain": [
              "<Figure size 432x288 with 1 Axes>"
            ]
          },
          "metadata": {
            "tags": [],
            "needs_background": "light"
          }
        }
      ]
    },
    {
      "cell_type": "code",
      "metadata": {
        "colab": {
          "base_uri": "https://localhost:8080/",
          "height": 1000
        },
        "id": "b3282a57",
        "outputId": "4b833259-4350-40e4-8332-35d635f52fae"
      },
      "source": [
        "index = 0\n",
        "image = X_train[index].reshape(28,28)\n",
        "image = image.astype(np.float) ## Convert to float type\n",
        "image -= 105.35 ## Intentionally try to create a negative decimal value\n",
        "plt.imshow(image, 'gray')\n",
        "plt.title('label : {}'.format(y_train[index]))\n",
        "plt.show()\n",
        "print(image) ## Check the value"
      ],
      "id": "b3282a57",
      "execution_count": 6,
      "outputs": [
        {
          "output_type": "display_data",
          "data": {
            "image/png": "[encoded data removed]",
            "text/plain": [
              "<Figure size 432x288 with 1 Axes>"
            ]
          },
          "metadata": {
            "tags": [],
            "needs_background": "light"
          }
        },
        {
          "output_type": "stream",
          "text": [
            "[[-105.35 -105.35 -105.35 -105.35 -105.35 -105.35 -105.35 -105.35 -105.35\n",
            "  -105.35 -105.35 -105.35 -105.35 -105.35 -105.35 -105.35 -105.35 -105.35\n",
            "  -105.35 -105.35 -105.35 -105.35 -105.35 -105.35 -105.35 -105.35 -105.35\n",
            "  -105.35]\n",
            " [-105.35 -105.35 -105.35 -105.35 -105.35 -105.35 -105.35 -105.35 -105.35\n",
            "  -105.35 -105.35 -105.35 -105.35 -105.35 -105.35 -105.35 -105.35 -105.35\n",
            "  -105.35 -105.35 -105.35 -105.35 -105.35 -105.35 -105.35 -105.35 -105.35\n",
            "  -105.35]\n",
            " [-105.35 -105.35 -105.35 -105.35 -105.35 -105.35 -105.35 -105.35 -105.35\n",
            "  -105.35 -105.35 -105.35 -105.35 -105.35 -105.35 -105.35 -105.35 -105.35\n",
            "  -105.35 -105.35 -105.35 -105.35 -105.35 -105.35 -105.35 -105.35 -105.35\n",
            "  -105.35]\n",
            " [-105.35 -105.35 -105.35 -105.35 -105.35 -105.35 -105.35 -105.35 -105.35\n",
            "  -105.35 -105.35 -105.35 -105.35 -105.35 -105.35 -105.35 -105.35 -105.35\n",
            "  -105.35 -105.35 -105.35 -105.35 -105.35 -105.35 -105.35 -105.35 -105.35\n",
            "  -105.35]\n",
            " [-105.35 -105.35 -105.35 -105.35 -105.35 -105.35 -105.35 -105.35 -105.35\n",
            "  -105.35 -105.35 -105.35 -105.35 -105.35 -105.35 -105.35 -105.35 -105.35\n",
            "  -105.35 -105.35 -105.35 -105.35 -105.35 -105.35 -105.35 -105.35 -105.35\n",
            "  -105.35]\n",
            " [-105.35 -105.35 -105.35 -105.35 -105.35 -105.35 -105.35 -105.35 -105.35\n",
            "  -105.35 -105.35 -105.35 -102.35  -87.35  -87.35  -87.35   20.65   30.65\n",
            "    69.65  -79.35   60.65  149.65  141.65   21.65 -105.35 -105.35 -105.35\n",
            "  -105.35]\n",
            " [-105.35 -105.35 -105.35 -105.35 -105.35 -105.35 -105.35 -105.35  -75.35\n",
            "   -69.35  -11.35   48.65   64.65  147.65  147.65  147.65  147.65  147.65\n",
            "   119.65   66.65  147.65  136.65   89.65  -41.35 -105.35 -105.35 -105.35\n",
            "  -105.35]\n",
            " [-105.35 -105.35 -105.35 -105.35 -105.35 -105.35 -105.35  -56.35  132.65\n",
            "   147.65  147.65  147.65  147.65  147.65  147.65  147.65  147.65  145.65\n",
            "   -12.35  -23.35  -23.35  -49.35  -66.35 -105.35 -105.35 -105.35 -105.35\n",
            "  -105.35]\n",
            " [-105.35 -105.35 -105.35 -105.35 -105.35 -105.35 -105.35  -87.35  113.65\n",
            "   147.65  147.65  147.65  147.65  147.65   92.65   76.65  141.65  135.65\n",
            "  -105.35 -105.35 -105.35 -105.35 -105.35 -105.35 -105.35 -105.35 -105.35\n",
            "  -105.35]\n",
            " [-105.35 -105.35 -105.35 -105.35 -105.35 -105.35 -105.35 -105.35  -25.35\n",
            "    50.65    1.65  147.65  147.65   99.65  -94.35 -105.35  -62.35   48.65\n",
            "  -105.35 -105.35 -105.35 -105.35 -105.35 -105.35 -105.35 -105.35 -105.35\n",
            "  -105.35]\n",
            " [-105.35 -105.35 -105.35 -105.35 -105.35 -105.35 -105.35 -105.35 -105.35\n",
            "   -91.35 -104.35   48.65  147.65  -15.35 -105.35 -105.35 -105.35 -105.35\n",
            "  -105.35 -105.35 -105.35 -105.35 -105.35 -105.35 -105.35 -105.35 -105.35\n",
            "  -105.35]\n",
            " [-105.35 -105.35 -105.35 -105.35 -105.35 -105.35 -105.35 -105.35 -105.35\n",
            "  -105.35 -105.35   33.65  147.65   84.65 -103.35 -105.35 -105.35 -105.35\n",
            "  -105.35 -105.35 -105.35 -105.35 -105.35 -105.35 -105.35 -105.35 -105.35\n",
            "  -105.35]\n",
            " [-105.35 -105.35 -105.35 -105.35 -105.35 -105.35 -105.35 -105.35 -105.35\n",
            "  -105.35 -105.35  -94.35   84.65  147.65  -35.35 -105.35 -105.35 -105.35\n",
            "  -105.35 -105.35 -105.35 -105.35 -105.35 -105.35 -105.35 -105.35 -105.35\n",
            "  -105.35]\n",
            " [-105.35 -105.35 -105.35 -105.35 -105.35 -105.35 -105.35 -105.35 -105.35\n",
            "  -105.35 -105.35 -105.35  -70.35  135.65  119.65   54.65    2.65 -104.35\n",
            "  -105.35 -105.35 -105.35 -105.35 -105.35 -105.35 -105.35 -105.35 -105.35\n",
            "  -105.35]\n",
            " [-105.35 -105.35 -105.35 -105.35 -105.35 -105.35 -105.35 -105.35 -105.35\n",
            "  -105.35 -105.35 -105.35 -105.35  -24.35  134.65  147.65  147.65   13.65\n",
            "   -80.35 -105.35 -105.35 -105.35 -105.35 -105.35 -105.35 -105.35 -105.35\n",
            "  -105.35]\n",
            " [-105.35 -105.35 -105.35 -105.35 -105.35 -105.35 -105.35 -105.35 -105.35\n",
            "  -105.35 -105.35 -105.35 -105.35 -105.35  -60.35   80.65  147.65  147.65\n",
            "    44.65  -78.35 -105.35 -105.35 -105.35 -105.35 -105.35 -105.35 -105.35\n",
            "  -105.35]\n",
            " [-105.35 -105.35 -105.35 -105.35 -105.35 -105.35 -105.35 -105.35 -105.35\n",
            "  -105.35 -105.35 -105.35 -105.35 -105.35 -105.35  -89.35  -12.35  146.65\n",
            "   147.65   81.65 -105.35 -105.35 -105.35 -105.35 -105.35 -105.35 -105.35\n",
            "  -105.35]\n",
            " [-105.35 -105.35 -105.35 -105.35 -105.35 -105.35 -105.35 -105.35 -105.35\n",
            "  -105.35 -105.35 -105.35 -105.35 -105.35 -105.35 -105.35 -105.35  143.65\n",
            "   147.65  143.65  -41.35 -105.35 -105.35 -105.35 -105.35 -105.35 -105.35\n",
            "  -105.35]\n",
            " [-105.35 -105.35 -105.35 -105.35 -105.35 -105.35 -105.35 -105.35 -105.35\n",
            "  -105.35 -105.35 -105.35 -105.35 -105.35  -59.35   24.65   77.65  147.65\n",
            "   147.65  101.65 -103.35 -105.35 -105.35 -105.35 -105.35 -105.35 -105.35\n",
            "  -105.35]\n",
            " [-105.35 -105.35 -105.35 -105.35 -105.35 -105.35 -105.35 -105.35 -105.35\n",
            "  -105.35 -105.35 -105.35  -66.35   42.65  123.65  147.65  147.65  147.65\n",
            "   144.65   76.65 -105.35 -105.35 -105.35 -105.35 -105.35 -105.35 -105.35\n",
            "  -105.35]\n",
            " [-105.35 -105.35 -105.35 -105.35 -105.35 -105.35 -105.35 -105.35 -105.35\n",
            "  -105.35  -81.35    8.65  115.65  147.65  147.65  147.65  147.65   95.65\n",
            "   -27.35 -105.35 -105.35 -105.35 -105.35 -105.35 -105.35 -105.35 -105.35\n",
            "  -105.35]\n",
            " [-105.35 -105.35 -105.35 -105.35 -105.35 -105.35 -105.35 -105.35  -82.35\n",
            "   -39.35  107.65  147.65  147.65  147.65  147.65   92.65  -24.35 -103.35\n",
            "  -105.35 -105.35 -105.35 -105.35 -105.35 -105.35 -105.35 -105.35 -105.35\n",
            "  -105.35]\n",
            " [-105.35 -105.35 -105.35 -105.35 -105.35 -105.35  -87.35   65.65  113.65\n",
            "   147.65  147.65  147.65  147.65   89.65  -25.35  -96.35 -105.35 -105.35\n",
            "  -105.35 -105.35 -105.35 -105.35 -105.35 -105.35 -105.35 -105.35 -105.35\n",
            "  -105.35]\n",
            " [-105.35 -105.35 -105.35 -105.35  -50.35   66.65  120.65  147.65  147.65\n",
            "   147.65  147.65  138.65   27.65  -94.35 -105.35 -105.35 -105.35 -105.35\n",
            "  -105.35 -105.35 -105.35 -105.35 -105.35 -105.35 -105.35 -105.35 -105.35\n",
            "  -105.35]\n",
            " [-105.35 -105.35 -105.35 -105.35   30.65  147.65  147.65  147.65  106.65\n",
            "    29.65   26.65  -89.35 -105.35 -105.35 -105.35 -105.35 -105.35 -105.35\n",
            "  -105.35 -105.35 -105.35 -105.35 -105.35 -105.35 -105.35 -105.35 -105.35\n",
            "  -105.35]\n",
            " [-105.35 -105.35 -105.35 -105.35 -105.35 -105.35 -105.35 -105.35 -105.35\n",
            "  -105.35 -105.35 -105.35 -105.35 -105.35 -105.35 -105.35 -105.35 -105.35\n",
            "  -105.35 -105.35 -105.35 -105.35 -105.35 -105.35 -105.35 -105.35 -105.35\n",
            "  -105.35]\n",
            " [-105.35 -105.35 -105.35 -105.35 -105.35 -105.35 -105.35 -105.35 -105.35\n",
            "  -105.35 -105.35 -105.35 -105.35 -105.35 -105.35 -105.35 -105.35 -105.35\n",
            "  -105.35 -105.35 -105.35 -105.35 -105.35 -105.35 -105.35 -105.35 -105.35\n",
            "  -105.35]\n",
            " [-105.35 -105.35 -105.35 -105.35 -105.35 -105.35 -105.35 -105.35 -105.35\n",
            "  -105.35 -105.35 -105.35 -105.35 -105.35 -105.35 -105.35 -105.35 -105.35\n",
            "  -105.35 -105.35 -105.35 -105.35 -105.35 -105.35 -105.35 -105.35 -105.35\n",
            "  -105.35]]\n"
          ],
          "name": "stdout"
        }
      ]
    },
    {
      "cell_type": "code",
      "metadata": {
        "colab": {
          "base_uri": "https://localhost:8080/",
          "height": 282
        },
        "id": "113cd947",
        "outputId": "8d8bff9c-f625-4c74-a9d1-e059a84f4c41"
      },
      "source": [
        "plt.imshow(image, 'gray', vmin = 0, vmax = 255)"
      ],
      "id": "113cd947",
      "execution_count": 7,
      "outputs": [
        {
          "output_type": "execute_result",
          "data": {
            "text/plain": [
              "<matplotlib.image.AxesImage at 0x7f519a0fda50>"
            ]
          },
          "metadata": {
            "tags": []
          },
          "execution_count": 7
        },
        {
          "output_type": "display_data",
          "data": {
            "image/png": "[encoded data removed]",
            "text/plain": [
              "<Figure size 432x288 with 1 Axes>"
            ]
          },
          "metadata": {
            "tags": [],
            "needs_background": "light"
          }
        }
      ]
    },
    {
      "cell_type": "markdown",
      "metadata": {
        "id": "dd0924ea"
      },
      "source": [
        "# Preprocessing"
      ],
      "id": "dd0924ea"
    },
    {
      "cell_type": "code",
      "metadata": {
        "colab": {
          "base_uri": "https://localhost:8080/"
        },
        "id": "e39954a0",
        "outputId": "be744ce2-8c26-4bee-c688-cca94be3a02b"
      },
      "source": [
        "X_train = X_train.astype(np.float)\n",
        "X_test = X_test.astype(np.float)\n",
        "X_train /= 255\n",
        "X_test /= 255\n",
        "print(X_train.max()) # 1.0\n",
        "print(X_train.min()) # 0.0"
      ],
      "id": "e39954a0",
      "execution_count": 8,
      "outputs": [
        {
          "output_type": "stream",
          "text": [
            "1.0\n",
            "0.0\n"
          ],
          "name": "stdout"
        }
      ]
    },
    {
      "cell_type": "code",
      "metadata": {
        "colab": {
          "base_uri": "https://localhost:8080/"
        },
        "id": "492c319e",
        "outputId": "93e723e6-469d-42ec-a025-3ea56ff457a7"
      },
      "source": [
        "from sklearn.preprocessing import OneHotEncoder\n",
        "enc = OneHotEncoder(handle_unknown='ignore', sparse=False)\n",
        "y_train_one_hot = enc.fit_transform(y_train[:, np.newaxis])\n",
        "y_test_one_hot = enc.transform(y_test[:, np.newaxis])\n",
        "print(y_train.shape) # (60000,)\n",
        "print(y_train_one_hot.shape) # (60000, 10)\n",
        "print(y_train_one_hot.dtype) # float64"
      ],
      "id": "492c319e",
      "execution_count": 9,
      "outputs": [
        {
          "output_type": "stream",
          "text": [
            "(60000,)\n",
            "(60000, 10)\n",
            "float64\n"
          ],
          "name": "stdout"
        }
      ]
    },
    {
      "cell_type": "code",
      "metadata": {
        "colab": {
          "base_uri": "https://localhost:8080/"
        },
        "id": "ccee141e",
        "outputId": "c0ff2710-ce28-4380-b1ba-8ede04e45c86"
      },
      "source": [
        "X_train, X_val, y_train, y_val = train_test_split(X_train, y_train, test_size=0.2)\n",
        "print(X_train.shape) # (48000, 784)\n",
        "print(X_val.shape) # (12000, 784)"
      ],
      "id": "ccee141e",
      "execution_count": 10,
      "outputs": [
        {
          "output_type": "stream",
          "text": [
            "(48000, 784)\n",
            "(12000, 784)\n"
          ],
          "name": "stdout"
        }
      ]
    },
    {
      "cell_type": "markdown",
      "metadata": {
        "id": "1af623be"
      },
      "source": [
        "# Neural Network Scratch"
      ],
      "id": "1af623be"
    },
    {
      "cell_type": "code",
      "metadata": {
        "id": "334c6cff"
      },
      "source": [
        "from sklearn.preprocessing import OneHotEncoder\n",
        "class ScratchSimpleNeuralNetrowkClassifier():\n",
        "    \"\"\"\n",
        "    Simple three-layer neural network classifier\n",
        "\n",
        "    Parameters\n",
        "    ----------\n",
        "\n",
        "    Attributes\n",
        "    ----------\n",
        "    \"\"\"\n",
        "    def __init__(self, n_nodes1, n_nodes2, lr=0.1, epoch=5, batch_size=20, sigma=0.01, activation_func=\"sigmoid\", verbose = True):\n",
        "        self.verbose = verbose\n",
        "        self.params = {}\n",
        "        self.bias = {}\n",
        "        \n",
        "        self.n_nodes1 = n_nodes1\n",
        "        self.n_nodes2 = n_nodes2\n",
        "        self.lr = lr\n",
        "        self.epoch = epoch\n",
        "        self.batch_size = batch_size\n",
        "        self.sigma = sigma\n",
        "        \n",
        "        self.train_loss = []\n",
        "        self.val_loss = []\n",
        "        \n",
        "        if activation_func == \"sigmoid\":\n",
        "            self.forward_activation_func = self._sigmoid_forward\n",
        "            self.backward_activation_func = self._sigmoid_backward\n",
        "        elif activation_func == \"tanh\":\n",
        "            self.forward_activation_func = self._tanh_forward\n",
        "            self.backward_activation_func = self._tanh_backward\n",
        "        else:\n",
        "            raise ValueError(\"No exists such activation function !!\")\n",
        "        \n",
        "    \n",
        "    def fit(self, X, y, X_val=None, y_val=None):\n",
        "        \n",
        "       ## Whether to record the loss function of verification data\n",
        "        calc_val = (X_val is not None) & (y_val is not None)\n",
        "        \n",
        "        ## One_hot conversion of objective variable\n",
        "        y = self._one_hot_encoding(y) \n",
        "        if calc_val:\n",
        "            y_val = self._one_hot_encoding(y_val) \n",
        "        \n",
        "        ## Initial value parameter set\n",
        "        self._set_parameters(X, y)\n",
        "        \n",
        "        ## Mini batch object definition\n",
        "        get_mini_batch = GetMiniBatch(X, y, batch_size=self.batch_size)\n",
        "        \n",
        "        ## Learning\n",
        "        for ep in range(self.epoch):\n",
        "            for mini_X, mini_y in get_mini_batch:\n",
        "                ## Forward propagation\n",
        "                ## ① Hierarchy＝＝＝＝＝＝＝＝＝＝＝＝＝＝＝＝＝＝\n",
        "                A1 = mini_X @ self.params[\"W1\"] + self.bias[\"b1\"]\n",
        "                Z1 = self.forward_activation_func(A1)\n",
        "                ## ② Hierarchy＝＝＝＝＝＝＝＝＝＝＝＝＝＝＝＝＝＝\n",
        "                A2 = Z1 @ self.params[\"W2\"] + self.bias[\"b2\"]\n",
        "                Z2 = self.forward_activation_func(A2)\n",
        "                ## ③ Hierarchy＝＝＝＝＝＝＝＝＝＝＝＝＝＝＝＝＝＝\n",
        "                A3 = Z2 @ self.params[\"W3\"] + self.bias[\"b3\"]\n",
        "                Z3 = self._softmax(A3)\n",
        "                #＝＝＝＝＝＝＝＝＝＝＝＝＝＝＝＝＝＝＝＝＝＝\n",
        "\n",
        "               ## Backpropagation\n",
        "                ## ③ Layer＝＝＝＝＝＝＝＝＝＝＝＝＝＝＝＝＝＝\n",
        "                deltaA3 = Z3 - mini_y\n",
        "                deltaB3 = np.sum(deltaA3, axis=0)\n",
        "                deltaW3 = Z2.T @ deltaA3\n",
        "\n",
        "                self.params[\"W3\"] -= self.lr * deltaW3\n",
        "                self.bias[\"b3\"] -= self.lr * deltaB3\n",
        "                \n",
        "                deltaZ2 = deltaA3 @ self.params[\"W3\"].T\n",
        "\n",
        "                ## ② Layer＝＝＝＝＝＝＝＝＝＝＝＝＝＝＝＝＝＝\n",
        "                deltaA2 = deltaZ2 * self.backward_activation_func(A2) \n",
        "                deltaB2 = np.sum(deltaA2, axis=0)\n",
        "                deltaW2 = Z1.T @ deltaA2\n",
        "\n",
        "                self.params[\"W2\"] -= self.lr * deltaW2\n",
        "                self.bias[\"b2\"] -= self.lr * deltaB2\n",
        "                \n",
        "                deltaZ1 = deltaA2 @ self.params[\"W2\"].T\n",
        "                ## ① Layer＝＝＝＝＝＝＝＝＝＝＝＝＝＝＝＝＝＝\n",
        "                deltaA1 = deltaZ1 * self.backward_activation_func(A1) \n",
        "                deltaB1 = np.sum(deltaA1, axis=0)\n",
        "                deltaW1 = mini_X.T @ deltaA1\n",
        "\n",
        "                self.params[\"W1\"] -= self.lr * deltaW1\n",
        "                self.bias[\"b1\"] -= self.lr * deltaB1\n",
        "                #＝＝＝＝＝＝＝＝＝＝＝＝＝＝＝＝＝＝＝＝＝\n",
        "\n",
        "            ## Record of loss\n",
        "            tr_loss = self._cross_entropy(self.predict_prob(X), y)\n",
        "            self.train_loss.append(tr_loss)\n",
        "            \n",
        "            if self.verbose:\n",
        "                    print(\"Train loss of epoch {}: {}\".format(ep, tr_loss))\n",
        "            \n",
        "            if calc_val:\n",
        "                va_loss = self._cross_entropy(self.predict_prob(X_val), y_val)\n",
        "                self.val_loss.append(va_loss)\n",
        "                \n",
        "                \n",
        "    def predict_prob(self, X):\n",
        "        ## Forward propagation\n",
        "        ## ① Hierarchy＝＝＝＝＝＝＝＝＝＝＝＝＝＝＝＝＝＝\n",
        "        A1 = X @ self.params[\"W1\"] + self.bias[\"b1\"]\n",
        "        Z1 = self.forward_activation_func(A1)\n",
        "        ## ② Hierarchy＝＝＝＝＝＝＝＝＝＝＝＝＝＝＝＝＝＝\n",
        "        A2 = Z1 @ self.params[\"W2\"] + self.bias[\"b2\"]\n",
        "        Z2 = self.forward_activation_func(A2)\n",
        "        ## ③ Hierarchy＝＝＝＝＝＝＝＝＝＝＝＝＝＝＝＝＝＝\n",
        "        A3 = Z2 @ self.params[\"W3\"] + self.bias[\"b3\"]\n",
        "        y = self._softmax(A3)\n",
        "        ##＝＝＝＝＝＝＝＝＝＝＝＝＝＝＝＝＝＝＝＝＝＝\n",
        "        \n",
        "        return y\n",
        "                \n",
        "    def predict(self, X):\n",
        "        y = np.argmax(self.predict_prob(X), axis=1)\n",
        "        \n",
        "        return y\n",
        "    \n",
        "    def _set_parameters(self, X, y):\n",
        "        ## Set the number of features and the number of classes\n",
        "        self.n_features = X.shape[1] \n",
        "        self.n_output = y.shape[1]\n",
        "        \n",
        "        ## Initial weight\n",
        "        self.params[\"W1\"] = self.sigma * np.random.randn(self.n_features, self.n_nodes1)\n",
        "        self.params[\"W2\"] = self.sigma * np.random.randn(self.n_nodes1, self.n_nodes2)\n",
        "        self.params[\"W3\"] = self.sigma * np.random.randn(self.n_nodes2, self.n_output)\n",
        "        \n",
        "       ## Bias initial value\n",
        "        self.bias[\"b1\"] = self.sigma * np.random.randn(self.n_nodes1, )\n",
        "        self.bias[\"b2\"] = self.sigma * np.random.randn(self.n_nodes2, )\n",
        "        self.bias[\"b3\"] = self.sigma * np.random.randn(self.n_output, )\n",
        "    \n",
        "    def _sigmoid_forward(self, X):\n",
        "        return 1 / (1 + np.exp(-X))\n",
        "    \n",
        "    def _tanh_forward(self, X):\n",
        "        return np.tanh(X)\n",
        "    \n",
        "    def _sigmoid_backward(self, X):\n",
        "        return (1-self._sigmoid_forward(X)) * self._sigmoid_forward(X)\n",
        "    \n",
        "    def _tanh_backward(self, X):\n",
        "        return (1 - self._tanh_forward(X)**2)\n",
        "    \n",
        "    def _softmax(self, X):\n",
        "        X = X - np.max(X)\n",
        "        return np.exp(X) / np.sum(np.exp(X), axis=1, keepdims=True)\n",
        "    \n",
        "    def _one_hot_encoding(self, y):\n",
        "        enc = OneHotEncoder(handle_unknown='ignore', sparse=False)\n",
        "        y_one_hot = enc.fit_transform(y[:, np.newaxis])\n",
        "        return y_one_hot\n",
        "\n",
        "    def _cross_entropy(self, X, y):\n",
        "        batch_size = len(X)\n",
        "        delta = 1e-7\n",
        "        return -np.sum(y * np.log(X+delta)) / batch_size"
      ],
      "id": "334c6cff",
      "execution_count": 11,
      "outputs": []
    },
    {
      "cell_type": "code",
      "metadata": {
        "id": "be6757b5"
      },
      "source": [
        "class GetMiniBatch:\n",
        "    \"\"\"\n",
        "    Iterator to get a mini-batch\n",
        "\n",
        "    Parameters\n",
        "    ----------\n",
        "    X :The following form ndarray, shape (n_samples, n_features)\n",
        "      Training data\n",
        "    y : The following form ndarray, shape (n_samples, 1)\n",
        "      Correct answer value\n",
        "    batch_size : int\n",
        "      Batch size\n",
        "    seed : int\n",
        "      NumPy random number seed\n",
        "    \"\"\"\n",
        "    def __init__(self, X, y, batch_size = 20, seed=0):\n",
        "        self.batch_size = batch_size\n",
        "        np.random.seed(seed)\n",
        "        shuffle_index = np.random.permutation(np.arange(X.shape[0]))\n",
        "        self._X = X[shuffle_index]\n",
        "        self._y = y[shuffle_index]\n",
        "        self._stop = np.ceil(X.shape[0]/self.batch_size).astype(np.int)\n",
        "    def __len__(self):\n",
        "        return self._stop\n",
        "    def __getitem__(self,item):\n",
        "        p0 = item*self.batch_size\n",
        "        p1 = item*self.batch_size + self.batch_size\n",
        "        return self._X[p0:p1], self._y[p0:p1]        \n",
        "    def __iter__(self):\n",
        "        self._counter = 0\n",
        "        return self\n",
        "    def __next__(self):\n",
        "        if self._counter >= self._stop:\n",
        "            raise StopIteration()\n",
        "        p0 = self._counter*self.batch_size\n",
        "        p1 = self._counter*self.batch_size + self.batch_size\n",
        "        self._counter += 1\n",
        "        return self._X[p0:p1], self._y[p0:p1]\n"
      ],
      "id": "be6757b5",
      "execution_count": 12,
      "outputs": []
    },
    {
      "cell_type": "markdown",
      "metadata": {
        "id": "f3146b91"
      },
      "source": [
        "# Problem 6 \n",
        "## Learning and estimation"
      ],
      "id": "f3146b91"
    },
    {
      "cell_type": "code",
      "metadata": {
        "colab": {
          "base_uri": "https://localhost:8080/"
        },
        "id": "5b1ea7b2",
        "outputId": "4b2c7c4e-d2d6-4efe-f293-daa42e6d01e2"
      },
      "source": [
        "nn = ScratchSimpleNeuralNetrowkClassifier(400,200, epoch=50,lr=1e-3)\n",
        "nn.fit(X_train, y_train, X_test, y_test)"
      ],
      "id": "5b1ea7b2",
      "execution_count": 13,
      "outputs": [
        {
          "output_type": "stream",
          "text": [
            "Train loss of epoch 0: 2.3101323922095576\n",
            "Train loss of epoch 1: 2.3136284914900838\n",
            "Train loss of epoch 2: 2.315597118855948\n",
            "Train loss of epoch 3: 2.273970541481669\n",
            "Train loss of epoch 4: 1.5470772134898667\n",
            "Train loss of epoch 5: 1.0432247385639128\n",
            "Train loss of epoch 6: 0.7670940938499811\n",
            "Train loss of epoch 7: 0.6875405338306221\n",
            "Train loss of epoch 8: 0.6168751847848747\n",
            "Train loss of epoch 9: 0.5531306610420491\n",
            "Train loss of epoch 10: 0.508695943634315\n",
            "Train loss of epoch 11: 0.4748015959276751\n",
            "Train loss of epoch 12: 0.44263590449273366\n",
            "Train loss of epoch 13: 0.4104706249077175\n",
            "Train loss of epoch 14: 0.3838818303357554\n",
            "Train loss of epoch 15: 0.3642557187629421\n",
            "Train loss of epoch 16: 0.34868495852340237\n",
            "Train loss of epoch 17: 0.33513535079712525\n",
            "Train loss of epoch 18: 0.3226631026099154\n",
            "Train loss of epoch 19: 0.3108746217778825\n",
            "Train loss of epoch 20: 0.2996119675380897\n",
            "Train loss of epoch 21: 0.28879598039333776\n",
            "Train loss of epoch 22: 0.27836555701986887\n",
            "Train loss of epoch 23: 0.2682708958251435\n",
            "Train loss of epoch 24: 0.2584844726757225\n",
            "Train loss of epoch 25: 0.24900756229289137\n",
            "Train loss of epoch 26: 0.2398660445360237\n",
            "Train loss of epoch 27: 0.2310985330321422\n",
            "Train loss of epoch 28: 0.22274267466171607\n",
            "Train loss of epoch 29: 0.21482458073408536\n",
            "Train loss of epoch 30: 0.20735380156596717\n",
            "Train loss of epoch 31: 0.20032351545569324\n",
            "Train loss of epoch 32: 0.19371399188714686\n",
            "Train loss of epoch 33: 0.18749724951224153\n",
            "Train loss of epoch 34: 0.1816414745761826\n",
            "Train loss of epoch 35: 0.1761144963070904\n",
            "Train loss of epoch 36: 0.17088611966169556\n",
            "Train loss of epoch 37: 0.16592937438651195\n",
            "Train loss of epoch 38: 0.16122087455310047\n",
            "Train loss of epoch 39: 0.15674057112260129\n",
            "Train loss of epoch 40: 0.15247120860000354\n",
            "Train loss of epoch 41: 0.1483977421236656\n",
            "Train loss of epoch 42: 0.1445068584108581\n",
            "Train loss of epoch 43: 0.1407866344227507\n",
            "Train loss of epoch 44: 0.13722630710200864\n",
            "Train loss of epoch 45: 0.13381611494262202\n",
            "Train loss of epoch 46: 0.1305471807571084\n",
            "Train loss of epoch 47: 0.12741141610306317\n",
            "Train loss of epoch 48: 0.12440143632252866\n",
            "Train loss of epoch 49: 0.12151048013876327\n"
          ],
          "name": "stdout"
        }
      ]
    },
    {
      "cell_type": "code",
      "metadata": {
        "colab": {
          "base_uri": "https://localhost:8080/"
        },
        "id": "74572675",
        "outputId": "c52d97d8-c710-486e-d7bb-6a63b7cea712"
      },
      "source": [
        "y_pred = nn.predict(X_test)\n",
        "print(\"pred:\", y_pred)\n",
        "print(\"ans:\", y_test)\n",
        "print(\"accuracy score:\", accuracy_score(y_test, y_pred))"
      ],
      "id": "74572675",
      "execution_count": 14,
      "outputs": [
        {
          "output_type": "stream",
          "text": [
            "pred: [7 2 1 ... 4 5 6]\n",
            "ans: [7 2 1 ... 4 5 6]\n",
            "accuracy score: 0.9582\n"
          ],
          "name": "stdout"
        }
      ]
    },
    {
      "cell_type": "markdown",
      "metadata": {
        "id": "a2131450"
      },
      "source": [
        "# Problem 7\n",
        "## Plot of learning curve"
      ],
      "id": "a2131450"
    },
    {
      "cell_type": "code",
      "metadata": {
        "colab": {
          "base_uri": "https://localhost:8080/",
          "height": 295
        },
        "id": "1389fccd",
        "outputId": "1825701e-16d8-40ab-98bf-1479dc6f546e"
      },
      "source": [
        "plt.plot(nn.train_loss, marker=\"o\", label=\"train_loss\")\n",
        "plt.plot(nn.val_loss, marker=\"^\", label=\"val_loss\")\n",
        "plt.title(\"Loss transition by learning\")\n",
        "plt.xlabel(\"epoch\")\n",
        "plt.ylabel(\"loss\")\n",
        "plt.show()"
      ],
      "id": "1389fccd",
      "execution_count": 15,
      "outputs": [
        {
          "output_type": "display_data",
          "data": {
            "image/png": "[encoded data removed]",
            "text/plain": [
              "<Figure size 432x288 with 1 Axes>"
            ]
          },
          "metadata": {
            "tags": [],
            "needs_background": "light"
          }
        }
      ]
    },
    {
      "cell_type": "code",
      "metadata": {
        "colab": {
          "base_uri": "https://localhost:8080/"
        },
        "id": "33f07b7f",
        "outputId": "6456c760-1a7b-4015-fd9b-d19fc2a2cf6f"
      },
      "source": [
        "nn.train_loss"
      ],
      "id": "33f07b7f",
      "execution_count": 16,
      "outputs": [
        {
          "output_type": "execute_result",
          "data": {
            "text/plain": [
              "[2.3101323922095576,\n",
              " 2.3136284914900838,\n",
              " 2.315597118855948,\n",
              " 2.273970541481669,\n",
              " 1.5470772134898667,\n",
              " 1.0432247385639128,\n",
              " 0.7670940938499811,\n",
              " 0.6875405338306221,\n",
              " 0.6168751847848747,\n",
              " 0.5531306610420491,\n",
              " 0.508695943634315,\n",
              " 0.4748015959276751,\n",
              " 0.44263590449273366,\n",
              " 0.4104706249077175,\n",
              " 0.3838818303357554,\n",
              " 0.3642557187629421,\n",
              " 0.34868495852340237,\n",
              " 0.33513535079712525,\n",
              " 0.3226631026099154,\n",
              " 0.3108746217778825,\n",
              " 0.2996119675380897,\n",
              " 0.28879598039333776,\n",
              " 0.27836555701986887,\n",
              " 0.2682708958251435,\n",
              " 0.2584844726757225,\n",
              " 0.24900756229289137,\n",
              " 0.2398660445360237,\n",
              " 0.2310985330321422,\n",
              " 0.22274267466171607,\n",
              " 0.21482458073408536,\n",
              " 0.20735380156596717,\n",
              " 0.20032351545569324,\n",
              " 0.19371399188714686,\n",
              " 0.18749724951224153,\n",
              " 0.1816414745761826,\n",
              " 0.1761144963070904,\n",
              " 0.17088611966169556,\n",
              " 0.16592937438651195,\n",
              " 0.16122087455310047,\n",
              " 0.15674057112260129,\n",
              " 0.15247120860000354,\n",
              " 0.1483977421236656,\n",
              " 0.1445068584108581,\n",
              " 0.1407866344227507,\n",
              " 0.13722630710200864,\n",
              " 0.13381611494262202,\n",
              " 0.1305471807571084,\n",
              " 0.12741141610306317,\n",
              " 0.12440143632252866,\n",
              " 0.12151048013876327]"
            ]
          },
          "metadata": {
            "tags": []
          },
          "execution_count": 16
        }
      ]
    },
    {
      "cell_type": "code",
      "metadata": {
        "colab": {
          "base_uri": "https://localhost:8080/"
        },
        "id": "655afcbe",
        "outputId": "841a9156-b78e-4183-b003-a657c090c282"
      },
      "source": [
        "nn.val_loss"
      ],
      "id": "655afcbe",
      "execution_count": 17,
      "outputs": [
        {
          "output_type": "execute_result",
          "data": {
            "text/plain": [
              "[2.30843517567859,\n",
              " 2.3116832048706524,\n",
              " 2.3134274048573684,\n",
              " 2.27067267280167,\n",
              " 1.5303437912495166,\n",
              " 1.0354116308364087,\n",
              " 0.7589765321305882,\n",
              " 0.6791833386102865,\n",
              " 0.6074374129061165,\n",
              " 0.5429049766129509,\n",
              " 0.49874315127478713,\n",
              " 0.4658763393327411,\n",
              " 0.4350089261352786,\n",
              " 0.4041472008464565,\n",
              " 0.3787019533325456,\n",
              " 0.360110751867757,\n",
              " 0.345474567069397,\n",
              " 0.3327330651174329,\n",
              " 0.32094424574573216,\n",
              " 0.30973183906286716,\n",
              " 0.29896577152830134,\n",
              " 0.28860264246184536,\n",
              " 0.2786168382853283,\n",
              " 0.26898521790674085,\n",
              " 0.25969459103723136,\n",
              " 0.2507497451791782,\n",
              " 0.2421727798482068,\n",
              " 0.23399480988800891,\n",
              " 0.22624538112188838,\n",
              " 0.21894417564566016,\n",
              " 0.2120969800959143,\n",
              " 0.2056956750219681,\n",
              " 0.19972086306441852,\n",
              " 0.19414560034044218,\n",
              " 0.18893907180274683,\n",
              " 0.18406956782622588,\n",
              " 0.17950656541641674,\n",
              " 0.1752219941232534,\n",
              " 0.1711908609186136,\n",
              " 0.16739138938389253,\n",
              " 0.16380480687565221,\n",
              " 0.16041493374026683,\n",
              " 0.15720773490905363,\n",
              " 0.15417093745877172,\n",
              " 0.15129373489117406,\n",
              " 0.1485665501237302,\n",
              " 0.14598082552804004,\n",
              " 0.14352882456368926,\n",
              " 0.14120344381552433,\n",
              " 0.13899804060861107]"
            ]
          },
          "metadata": {
            "tags": []
          },
          "execution_count": 17
        }
      ]
    },
    {
      "cell_type": "markdown",
      "metadata": {
        "id": "3cdc5fe9"
      },
      "source": [
        "# Problem 8 (Advance task)\n",
        "## Confirmation of misclassification"
      ],
      "id": "3cdc5fe9"
    },
    {
      "cell_type": "code",
      "metadata": {
        "colab": {
          "base_uri": "https://localhost:8080/",
          "height": 396
        },
        "id": "59fb2ed2",
        "outputId": "12866992-67f2-45a4-c901-a3a2e1468aa1"
      },
      "source": [
        "y_val = y_test\n",
        "\n",
        "\"\"\"\n",
        "Display word classification results side by side. The display above the image is \"estimated result / correct answer\".\n",
        "\n",
        "Parameters:\n",
        "----------\n",
        "y_pred : Estimated value ndarray (n_samples,)\n",
        "y_val : Correct label for validation data (n_samples,)\n",
        "X_val : Features of verification data（n_samples, n_features)\n",
        "\"\"\"\n",
        "import numpy as np\n",
        "import matplotlib.pyplot as plt\n",
        "num = 36 # How many to display\n",
        "true_false = y_pred==y_test\n",
        "false_list = np.where(true_false==False)[0].astype(np.int)\n",
        "if false_list.shape[0] < num:\n",
        "    num = false_list.shape[0]\n",
        "fig = plt.figure(figsize=(6, 6))\n",
        "fig.subplots_adjust(left=0, right=0.8,  bottom=0, top=0.8, hspace=1, wspace=0.5)\n",
        "for i in range(num):\n",
        "    ax = fig.add_subplot(6, 6, i + 1, xticks=[], yticks=[])\n",
        "    ax.set_title(\"{} / {}\".format(y_pred[false_list[i]],y_test[false_list[i]]))\n",
        "    ax.imshow(X_test.reshape(-1,28,28)[false_list[i]], cmap='gray')\n"
      ],
      "id": "59fb2ed2",
      "execution_count": 18,
      "outputs": [
        {
          "output_type": "display_data",
          "data": {
            "image/png": "[encoded data removed]",
            "text/plain": [
              "<Figure size 432x432 with 36 Axes>"
            ]
          },
          "metadata": {
            "tags": []
          }
        }
      ]
    },
    {
      "cell_type": "markdown",
      "metadata": {
        "id": "27e42c9b"
      },
      "source": [
        "# Test"
      ],
      "id": "27e42c9b"
    },
    {
      "cell_type": "code",
      "metadata": {
        "id": "160d1781"
      },
      "source": [
        "def sigmoid_forwarrd(X):\n",
        "    return 1 / (1 + np.exp(-X))\n",
        "\n",
        "def tanh_forwarrd(X):\n",
        "    return np.tanh(X)\n",
        "\n",
        "def sigmoid_backward(X):\n",
        "    return (1- sigmoid_forwarrd(X)) * sigmoid_forwarrd(X)\n",
        "\n",
        "def tanh_backward(X):\n",
        "    return (1 - tanh_forwarrd(X)**2)\n",
        "\n",
        "def softmax(X):\n",
        "    return np.exp(X) / np.sum(np.exp(X), axis=1, keepdims=True)\n",
        "\n",
        "def cross_entropy(X, y):\n",
        "    batch_size = len(X)\n",
        "    delta = 1e-7\n",
        "    return -np.sum(y * np.log(X+delta)) / batch_size"
      ],
      "id": "160d1781",
      "execution_count": 19,
      "outputs": []
    },
    {
      "cell_type": "code",
      "metadata": {
        "colab": {
          "base_uri": "https://localhost:8080/"
        },
        "id": "951a00c6",
        "outputId": "b11894f7-54b0-48b2-ef93-46e4f2c74224"
      },
      "source": [
        "XX = np.array([[1,2],[3,4],[5,6],[7,8]])\n",
        "yy = np.array([0,1,2,3])\n",
        "\n",
        "enc = OneHotEncoder(handle_unknown='ignore', sparse=False)\n",
        "yy_one_hot = enc.fit_transform(yy[:, np.newaxis])\n",
        "    \n",
        "n_nodes1 = 3\n",
        "n_nodes2 = 2\n",
        "n_output = yy_one_hot.shape[1]\n",
        "n_features = XX.shape[1]\n",
        "\n",
        "bias1 = np.array([-20, -10, -12])\n",
        "bias2 = np.array([10, 15])\n",
        "bias3 = np.array([10, 15, -10, -5])\n",
        "\n",
        "w1 = np.array([[5, 3, 1], [4, 2, 0]])\n",
        "w2 = np.array([[-4, 3], [-6, 1], [-8, 5]])\n",
        "w3 = np.array([[-4, 3, -3, 5], [-6, 1, -2, 2]])\n",
        "\n",
        "A1 = XX @ w1 + bias1\n",
        "Z1 = sigmoid_forwarrd(A1)\n",
        "\n",
        "A2 = Z1 @ w2 + bias2\n",
        "Z2 = sigmoid_forwarrd(A2)\n",
        "\n",
        "A3 = Z2 @ w3 + bias3\n",
        "Z3 = softmax(A3)\n",
        "\n",
        "Z2.T @ (Z3 - yy_one_hot)\n",
        "\n",
        "w3 - 0.1 *(Z2.T @ (Z3 - yy_one_hot))"
      ],
      "id": "951a00c6",
      "execution_count": 20,
      "outputs": [
        {
          "output_type": "execute_result",
          "data": {
            "text/plain": [
              "array([[-3.90000609,  2.80152655, -2.9501822 ,  5.04866174],\n",
              "       [-5.90000009,  0.7000001 , -1.9       ,  2.09999999]])"
            ]
          },
          "metadata": {
            "tags": []
          },
          "execution_count": 20
        }
      ]
    },
    {
      "cell_type": "code",
      "metadata": {
        "id": "a266a1c9"
      },
      "source": [
        "## 1st layer\n",
        "deltaA3 = Z3 - yy_one_hot\n",
        "deltaB3 = np.sum(deltaA3, axis=0)\n",
        "deltaW3 = Z2.T @ deltaA3\n",
        "deltaZ2 = deltaA3 @ w3.T\n",
        "\n",
        "## 2nd layer\n",
        "deltaA2 = deltaZ2 * sigmoid_backward(A2) \n",
        "deltaB2 = np.sum(deltaA2, axis=0)\n",
        "deltaW2 = Z1.T @ deltaA2\n",
        "deltaZ1 = deltaA2 @ w2.T\n",
        "\n",
        "## 3rd layer\n",
        "deltaA1 = deltaZ1 * sigmoid_backward(A1) \n",
        "deltaB1 = np.sum(deltaA1, axis=0)\n",
        "deltaW1 = XX.T @ deltaA1"
      ],
      "id": "a266a1c9",
      "execution_count": 21,
      "outputs": []
    },
    {
      "cell_type": "code",
      "metadata": {
        "colab": {
          "base_uri": "https://localhost:8080/"
        },
        "id": "e87f1d98",
        "outputId": "33717097-950a-4220-d634-b143091776af"
      },
      "source": [
        "print(\"1st layer\")\n",
        "print(deltaA3.shape)\n",
        "print(deltaB3.shape)\n",
        "print(deltaW3.shape)\n",
        "print(deltaZ2.shape)\n",
        "print(w3 - 0.1 * deltaW3)\n",
        "print()\n",
        "print(\"Second layer\")\n",
        "print(deltaA2.shape)\n",
        "print(deltaB2.shape)\n",
        "print(deltaW2.shape)\n",
        "print(deltaZ1.shape)\n",
        "print()\n",
        "print(\"Third layer\")\n",
        "print(deltaA1.shape)\n",
        "print(deltaB1.shape)\n",
        "print(deltaW1.shape)\n"
      ],
      "id": "e87f1d98",
      "execution_count": 22,
      "outputs": [
        {
          "output_type": "stream",
          "text": [
            "1st layer\n",
            "(4, 4)\n",
            "(4,)\n",
            "(2, 4)\n",
            "(4, 2)\n",
            "[[-3.90000609  2.80152655 -2.9501822   5.04866174]\n",
            " [-5.90000009  0.7000001  -1.9         2.09999999]]\n",
            "\n",
            "Second layer\n",
            "(4, 2)\n",
            "(2,)\n",
            "(3, 2)\n",
            "(4, 3)\n",
            "\n",
            "Third layer\n",
            "(4, 3)\n",
            "(3,)\n",
            "(2, 3)\n"
          ],
          "name": "stdout"
        }
      ]
    }
  ]
}