{
 "cells": [
  {
   "cell_type": "markdown",
   "id": "8b728c59",
   "metadata": {},
   "source": [
    "\n",
    "# Problem 1\n",
    "\n",
    "Represent a 2 x 2 square chessboard by ndarray and calculate the number of wheat in each square."
   ]
  },
  {
   "cell_type": "code",
   "execution_count": 16,
   "id": "6c747255",
   "metadata": {},
   "outputs": [
    {
     "name": "stdout",
     "output_type": "stream",
     "text": [
      "2x2 Chessboard:\n",
      "[[1 2]\n",
      " [4 8]]\n"
     ]
    }
   ],
   "source": [
    "import numpy as np\n",
    "\n",
    "n_squares = 4\n",
    "chessboard_list = [1]\n",
    "for i in range(n_squares - 1):\n",
    "    chessboard_list.append(2 * chessboard_list[-1])\n",
    "\n",
    "chessboard_array = np.array(chessboard_list)\n",
    "formatted_chessboard = chessboard_array.reshape((2, 2))\n",
    "\n",
    "print(\"2x2 Chessboard:\")\n",
    "print(formatted_chessboard)"
   ]
  },
  {
   "cell_type": "markdown",
   "id": "e744ded8",
   "metadata": {},
   "source": [
    "\n",
    "# Problem 2\n",
    "Create a function that returns a ndarray containing the number of wheat on an nxm chess board. Then use this function to find the number of wheat on the 8x8 square chess board."
   ]
  },
  {
   "cell_type": "code",
   "execution_count": 20,
   "id": "51415fc1",
   "metadata": {},
   "outputs": [
    {
     "name": "stdout",
     "output_type": "stream",
     "text": [
      "Insert the number of rows: 8\n",
      "Insert the number of columns: 8\n",
      "8x8 Chessboard\n",
      "[[1.00000000e+00 2.00000000e+00 4.00000000e+00 8.00000000e+00\n",
      "  1.60000000e+01 3.20000000e+01 6.40000000e+01 1.28000000e+02]\n",
      " [2.56000000e+02 5.12000000e+02 1.02400000e+03 2.04800000e+03\n",
      "  4.09600000e+03 8.19200000e+03 1.63840000e+04 3.27680000e+04]\n",
      " [6.55360000e+04 1.31072000e+05 2.62144000e+05 5.24288000e+05\n",
      "  1.04857600e+06 2.09715200e+06 4.19430400e+06 8.38860800e+06]\n",
      " [1.67772160e+07 3.35544320e+07 6.71088640e+07 1.34217728e+08\n",
      "  2.68435456e+08 5.36870912e+08 1.07374182e+09 2.14748365e+09]\n",
      " [4.29496730e+09 8.58993459e+09 1.71798692e+10 3.43597384e+10\n",
      "  6.87194767e+10 1.37438953e+11 2.74877907e+11 5.49755814e+11]\n",
      " [1.09951163e+12 2.19902326e+12 4.39804651e+12 8.79609302e+12\n",
      "  1.75921860e+13 3.51843721e+13 7.03687442e+13 1.40737488e+14]\n",
      " [2.81474977e+14 5.62949953e+14 1.12589991e+15 2.25179981e+15\n",
      "  4.50359963e+15 9.00719925e+15 1.80143985e+16 3.60287970e+16]\n",
      " [7.20575940e+16 1.44115188e+17 2.88230376e+17 5.76460752e+17\n",
      "  1.15292150e+18 2.30584301e+18 4.61168602e+18 9.22337204e+18]]\n"
     ]
    }
   ],
   "source": [
    "import numpy as np\n",
    "\n",
    "n_square = 64\n",
    "chessboard_list = [1]\n",
    "\n",
    "for i in range(n_square - 1):\n",
    "    chessboard_list.append(2 * chessboard_list[i])\n",
    "\n",
    "def calculate_wheat_grains(n, m):\n",
    "    total_squares = n * m\n",
    "    chessboard_list = [1]\n",
    "    \n",
    "    for i in range(1, total_squares):\n",
    "        chessboard_list.append(2 * chessboard_list[i - 1])\n",
    "   \n",
    "    return np.array(chessboard_list).reshape(n, m)\n",
    "\n",
    "n = int(input(\"Insert the number of rows: \")) # Number of rows\n",
    "m = int(input(\"Insert the number of columns: \")) # Number of columns\n",
    "\n",
    "wheat_board = calculate_wheat_grains(n, m)\n",
    "print(\"8x8 Chessboard\")\n",
    "print(wheat_board)\n"
   ]
  },
  {
   "cell_type": "markdown",
   "id": "d70de4f6",
   "metadata": {},
   "source": [
    "\n",
    "# Problem 3\n",
    "\n",
    "Find the total number of wheat on a chess board of 8 x 8 squares. Also, find the average of each column and visualize it in a bar chart."
   ]
  },
  {
   "cell_type": "code",
   "execution_count": 21,
   "id": "2ccd8fdf",
   "metadata": {},
   "outputs": [
    {
     "name": "stdout",
     "output_type": "stream",
     "text": [
      "The total number of grains of wheats is:  1.8446744073709552e+19\n"
     ]
    }
   ],
   "source": [
    "import numpy as np\n",
    "\n",
    "n_squares = 4\n",
    "chessboard_list = [1]\n",
    "for i in range(n_squares - 1):\n",
    "    chessboard_list.append(2 * chessboard_list[-1])\n",
    "    \n",
    "def calculate_wheat_grains(n, m):\n",
    "    total_squares = n * m\n",
    "    chessboard_list = [1]\n",
    "    \n",
    "    for i in range(1, total_squares):\n",
    "        chessboard_list.append(2 * chessboard_list[i - 1])\n",
    "   \n",
    "    return np.array(chessboard_list).reshape(n, m)\n",
    "\n",
    "chessboard_list = calculate_wheat_grains(8, 8)\n",
    "total= chessboard_list.sum()\n",
    "print(\"The total number of grains of wheats is: \", total)\n",
    "    \n"
   ]
  },
  {
   "cell_type": "markdown",
   "id": "0e47c2c5",
   "metadata": {},
   "source": [
    "## Show in bar chart"
   ]
  },
  {
   "cell_type": "code",
   "execution_count": 22,
   "id": "7117f709",
   "metadata": {},
   "outputs": [
    {
     "data": {
      "image/png": "[encoded data removed]",
      "text/plain": [
       "<Figure size 432x288 with 1 Axes>"
      ]
     },
     "metadata": {
      "needs_background": "light"
     },
     "output_type": "display_data"
    }
   ],
   "source": [
    "import matplotlib.pyplot as plt\n",
    "%matplotlib inline\n",
    "\n",
    "plt.xlabel(\"column\")\n",
    "plt.ylabel(\"number\")\n",
    "plt.title(\"number in each column\")\n",
    "plt.bar(np.arange(1,9),chessboard_list.mean(axis=0))\n",
    "plt.show()"
   ]
  },
  {
   "cell_type": "markdown",
   "id": "ce6b0e21",
   "metadata": {},
   "source": [
    "\n",
    "\n",
    "# Problem 4\n",
    "\n",
    "Visualize the number of wheat on the 8x8 chess board as a heat map."
   ]
  },
  {
   "cell_type": "code",
   "execution_count": 24,
   "id": "5c1fd1c4",
   "metadata": {},
   "outputs": [
    {
     "data": {
      "image/png": "[encoded data removed]",
      "text/plain": [
       "<Figure size 432x288 with 2 Axes>"
      ]
     },
     "metadata": {
      "needs_background": "light"
     },
     "output_type": "display_data"
    }
   ],
   "source": [
    "import matplotlib.pyplot as plt\n",
    "%matplotlib inline\n",
    "\n",
    "plt.xlabel(\"Column\")\n",
    "plt.ylabel(\"Row\")\n",
    "plt.title(\"Wheat Grains on 8x8 Chessboard\")\n",
    "plt.pcolor(wheat_board, cmap='viridis')\n",
    "plt.colorbar(label='Number of Wheat Grains')\n",
    "plt.show()"
   ]
  },
  {
   "cell_type": "markdown",
   "id": "b2ae23e2",
   "metadata": {},
   "source": [
    "\n",
    "# Problem 5\n",
    "\n",
    "How many times the number of wheat in the second half of the chessboard is greater than the number of wheat in the first half. "
   ]
  },
  {
   "cell_type": "code",
   "execution_count": null,
   "id": "08abd14b",
   "metadata": {},
   "outputs": [],
   "source": [
    "import numpy as np\n",
    "\n",
    "def calculate_wheat_grains(n, m):\n",
    "    total_squares = n * m\n",
    "    chessboard_list = [1]\n",
    "    \n",
    "    for i in range(1, total_squares):\n",
    "        chessboard_list.append(2 * chessboard_list[i - 1])\n",
    "   \n",
    "    return np.array(chessboard_list).reshape(n, m)\n",
    "\n",
    "n = 8  # Number of rows\n",
    "m = 8  # Number of columns\n",
    "\n",
    "wheat_board = calculate_wheat_grains(n, m)\n",
    "\n",
    "\n",
    "first_half = wheat_board[:4, :]\n",
    "second_half = wheat_board[4:, :]\n",
    "\n",
    "\n",
    "greater_count = np.sum(second_half > first_half)\n",
    "\n",
    "print(\"The second half of the chessboard is greater than the first half\", greater_count, \"times.\")\n"
   ]
  },
  {
   "cell_type": "markdown",
   "id": "f49919ea",
   "metadata": {},
   "source": [
    "\n",
    "# Problem 6\n",
    "\n",
    "Create a new function similar to Problem 2 that returns an ndarray containing the number of wheat squares on an n×m chessboard, one usingnp.append ()and one using broadcast.\n"
   ]
  },
  {
   "cell_type": "markdown",
   "id": "bd712b89",
   "metadata": {},
   "source": [
    "### Using np.append()"
   ]
  },
  {
   "cell_type": "code",
   "execution_count": 28,
   "id": "06cd949a",
   "metadata": {},
   "outputs": [
    {
     "name": "stdout",
     "output_type": "stream",
     "text": [
      "Using np.append():\n",
      "[[                  1                   2                   4\n",
      "                    8                  16                  32\n",
      "                   64                 128]\n",
      " [                256                 512                1024\n",
      "                 2048                4096                8192\n",
      "                16384               32768]\n",
      " [              65536              131072              262144\n",
      "               524288             1048576             2097152\n",
      "              4194304             8388608]\n",
      " [           16777216            33554432            67108864\n",
      "            134217728           268435456           536870912\n",
      "           1073741824          2147483648]\n",
      " [         4294967296          8589934592         17179869184\n",
      "          34359738368         68719476736        137438953472\n",
      "         274877906944        549755813888]\n",
      " [      1099511627776       2199023255552       4398046511104\n",
      "        8796093022208      17592186044416      35184372088832\n",
      "       70368744177664     140737488355328]\n",
      " [    281474976710656     562949953421312    1125899906842624\n",
      "     2251799813685248    4503599627370496    9007199254740992\n",
      "    18014398509481984   36028797018963968]\n",
      " [  72057594037927936  144115188075855872  288230376151711744\n",
      "   576460752303423488 1152921504606846976 2305843009213693952\n",
      "  4611686018427387904 9223372036854775808]]\n"
     ]
    }
   ],
   "source": [
    "import numpy as np\n",
    "\n",
    "def calculate_wheat_grains_append(n, m):\n",
    "    total_squares = n * m\n",
    "    chessboard_list = [1]\n",
    "\n",
    "    for i in range(1, total_squares):\n",
    "        chessboard_list.append(2 * chessboard_list[-1])\n",
    "\n",
    "    return np.array(chessboard_list, dtype=np.uint64).reshape(n, m)\n",
    "\n",
    "n = 8  # Number of rows\n",
    "m = 8  # Number of columns\n",
    "\n",
    "wheat_board_append = calculate_wheat_grains_append(n, m)\n",
    "print(\"Using np.append():\")\n",
    "print(wheat_board_append)\n"
   ]
  },
  {
   "cell_type": "markdown",
   "id": "41ae7de0",
   "metadata": {},
   "source": [
    "### Using broadcast"
   ]
  },
  {
   "cell_type": "code",
   "execution_count": 34,
   "id": "9e07bafb",
   "metadata": {},
   "outputs": [
    {
     "name": "stdout",
     "output_type": "stream",
     "text": [
      "Using broadcasting:\n",
      "[[                   1                    2                    4\n",
      "                     8                   16                   32\n",
      "                    64                  128]\n",
      " [                 256                  512                 1024\n",
      "                  2048                 4096                 8192\n",
      "                 16384                32768]\n",
      " [               65536               131072               262144\n",
      "                524288              1048576              2097152\n",
      "               4194304              8388608]\n",
      " [            16777216             33554432             67108864\n",
      "             134217728            268435456            536870912\n",
      "            1073741824 18446744071562067968]\n",
      " [                   0                    0                    0\n",
      "                     0                    0                    0\n",
      "                     0                    0]\n",
      " [                   0                    0                    0\n",
      "                     0                    0                    0\n",
      "                     0                    0]\n",
      " [                   0                    0                    0\n",
      "                     0                    0                    0\n",
      "                     0                    0]\n",
      " [                   0                    0                    0\n",
      "                     0                    0                    0\n",
      "                     0                    0]]\n"
     ]
    }
   ],
   "source": [
    "import numpy as np\n",
    "\n",
    "def calculate_wheat_grains_broadcast(n, m):\n",
    "    total_squares = n * m\n",
    "    indices = np.arange(total_squares)\n",
    "    chessboard_array = 2 ** indices\n",
    "    \n",
    "    return chessboard_array.reshape(n, m).astype(np.uint64)\n",
    "\n",
    "n = 8  # Number of rows\n",
    "m = 8  # Number of columns\n",
    "\n",
    "wheat_board_broadcast = calculate_wheat_grains_broadcast(n, m)\n",
    "print(\"Using broadcasting:\")\n",
    "print(wheat_board_broadcast)\n"
   ]
  },
  {
   "cell_type": "markdown",
   "id": "d63705af",
   "metadata": {},
   "source": [
    "\n",
    "# Problem 7\n"
   ]
  },
  {
   "cell_type": "code",
   "execution_count": 35,
   "id": "7fb53df2",
   "metadata": {},
   "outputs": [
    {
     "name": "stdout",
     "output_type": "stream",
     "text": [
      "19.1 µs ± 1.46 µs per loop (mean ± std. dev. of 7 runs, 100,000 loops each)\n",
      "3.33 µs ± 101 ns per loop (mean ± std. dev. of 7 runs, 100,000 loops each)\n"
     ]
    }
   ],
   "source": [
    "import numpy as np\n",
    "\n",
    "def calculate_wheat_grains_append(n, m):\n",
    "    total_squares = n * m\n",
    "    chessboard_list = [1]\n",
    "\n",
    "    for i in range(1, total_squares):\n",
    "        chessboard_list.append(2 * chessboard_list[-1])\n",
    "\n",
    "    return np.array(chessboard_list, dtype=np.uint64).reshape(n, m)\n",
    "\n",
    "def calculate_wheat_grains_broadcast(n, m):\n",
    "    total_squares = n * m\n",
    "    indices = np.arange(total_squares)\n",
    "    chessboard_array = 2 ** indices\n",
    "    \n",
    "    return chessboard_array.reshape(n, m)\n",
    "\n",
    "n = 8  # Number of rows\n",
    "m = 8  # Number of columns\n",
    "\n",
    "wheat_board_append = calculate_wheat_grains_append(n, m)\n",
    "wheat_board_broadcast = calculate_wheat_grains_broadcast(n, m)\n",
    "\n",
    "# Using np.append() method\n",
    "def method_append():\n",
    "    calculate_wheat_grains_append(n, m)\n",
    "\n",
    "# Using broadcasting method\n",
    "def method_broadcast():\n",
    "    calculate_wheat_grains_broadcast(n, m)\n",
    "\n",
    "# Time measurement for np.append() method\n",
    "append_time = %timeit -o method_append()\n",
    "\n",
    "# Time measurement for broadcasting method\n",
    "broadcast_time = %timeit -o method_broadcast()\n"
   ]
  },
  {
   "cell_type": "code",
   "execution_count": null,
   "id": "f0a9063b",
   "metadata": {},
   "outputs": [],
   "source": []
  }
 ],
 "metadata": {
  "kernelspec": {
   "display_name": "Python 3 (ipykernel)",
   "language": "python",
   "name": "python3"
  },
  "language_info": {
   "codemirror_mode": {
    "name": "ipython",
    "version": 3
   },
   "file_extension": ".py",
   "mimetype": "text/x-python",
   "name": "python",
   "nbconvert_exporter": "python",
   "pygments_lexer": "ipython3",
   "version": "3.9.12"
  }
 },
 "nbformat": 4,
 "nbformat_minor": 5
}
