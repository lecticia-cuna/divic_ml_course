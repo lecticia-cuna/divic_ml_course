{
 "cells": [
  {
   "cell_type": "markdown",
   "metadata": {},
   "source": [
    "# Problem 1\n",
    "\n",
    "Program that calculates the minimum number of times to fold the paper required for the thickness to exceed the \"height of Mt. Fuji (3776m)\n"
   ]
  },
  {
   "cell_type": "code",
   "execution_count": 9,
   "metadata": {},
   "outputs": [
    {
     "name": "stdout",
     "output_type": "stream",
     "text": [
      "The minimum number of times to fold the paper required for the thickness to exceed the height of Mt. Fuji is 25\n"
     ]
    }
   ],
   "source": [
    "import numpy as np \n",
    "\n",
    "folded_thickness=3776\n",
    "thickness=0.00008\n",
    "\n",
    "\n",
    "# To solve this problem we will need to use the formula to calculate the thickness\n",
    "#folded_thickness = thickness * (2**n_folded)\n",
    "\n",
    "# Now we have to isolate the variable that contains the number of times the paper is folded (n_folded)\n",
    "n_folded = np.log2(folded_thickness / thickness)\n",
    "\n",
    "print(\"The minimum number of times to fold the paper required for the thickness to exceed the height of Mt. Fuji is\", int(np.around(n_folded)))\n"
   ]
  },
  {
   "cell_type": "markdown",
   "metadata": {},
   "source": [
    "# Problem 2\n",
    "\n",
    "Implement a function that takes a height and outputs the minimum number of folds required to exceed it\n"
   ]
  },
  {
   "cell_type": "code",
   "execution_count": 20,
   "metadata": {},
   "outputs": [
    {
     "name": "stdout",
     "output_type": "stream",
     "text": [
      "Introduce the value of the thickness: 0.00008\n",
      "The minimum number of folds required to reach the nearest star other than the sun is:  69\n"
     ]
    }
   ],
   "source": [
    "import numpy as np\n",
    "def arbitrary_thickness(height, thickness):\n",
    "    \n",
    "    n_folded = np.log2(height / thickness)\n",
    "    return n_folded\n",
    "\n",
    "\n",
    "# Calculating how many times are needed to fold the paper to reach the \"nearest star other than the sun\"\n",
    "\n",
    "height= 40208000000000000 # Distance from Earth to the nearest star.\n",
    "thickness= eval(input(\"Introduce the value of the thickness: \"))\n",
    "\n",
    "print(\"The minimum number of folds required to reach the nearest star other than the sun is: \", int(np.around(arbitrary_thickness(height, thickness))))\n",
    "\n"
   ]
  },
  {
   "cell_type": "markdown",
   "metadata": {},
   "source": [
    "# Problem 3\n",
    "\n",
    "The length L of paper required to fold paper with thickness\n"
   ]
  },
  {
   "cell_type": "code",
   "execution_count": 23,
   "metadata": {},
   "outputs": [
    {
     "name": "stdout",
     "output_type": "stream",
     "text": [
      "The length of paper necessary to reach the Moon is: 4.646958407110647e+33\n",
      "The length of paper necessary to reach the Mt.Fuji is: 4.404682929158095e+18\n",
      "The length of paper necessary to reach the nearest star other than the Sun is: 5.318094644524867e+57\n"
     ]
    }
   ],
   "source": [
    "from math import pi\n",
    "\n",
    "\n",
    "#distances\n",
    "height_moon=384400000   #distance to reach the Moon\n",
    "\n",
    "height_mt_fuji=3776     # distance to reach the Mt.Fuji \n",
    "\n",
    "height_sun=40208000000000000  #distance the nearest star other than the Sun\n",
    "\n",
    "n_moon = arbitrary_thickness(height_moon, thickness)     #number of folds required to reach the moon\n",
    "\n",
    "n_mt_fuji = arbitrary_thickness(height_mt_fuji, thickness)  ##number of folds required to reach the Mt.Fuji\n",
    "\n",
    "n_sun = arbitrary_thickness(height_sun, thickness)    #number of folds required to reach the nearest star other than the sun\n",
    "\n",
    "\n",
    "#Function that finds the length of paper needed to actually fold the paper and reach any thickness\n",
    "def lenght_paper (thickness,n_folded):\n",
    "    \n",
    "    lenght=((pi * thickness)/6) * (pow(2, n_folded) + 4) * (pow(2, n_folded) + 1)\n",
    "    return lenght\n",
    "\n",
    "\n",
    "lenght_moon= lenght_paper(height_moon,n_moon)\n",
    "lenght_mt_fuji= lenght_paper(height_mt_fuji,n_mt_fuji)\n",
    "lenght_sun= lenght_paper(height_sun,n_sun)\n",
    "\n",
    "print(\"The length of paper necessary to reach the Moon is:\", lenght_moon)\n",
    "print(\"The length of paper necessary to reach the Mt.Fuji is:\", lenght_mt_fuji)\n",
    "print(\"The length of paper necessary to reach the nearest star other than the Sun is:\", lenght_sun)\n"
   ]
  },
  {
   "cell_type": "code",
   "execution_count": null,
   "metadata": {},
   "outputs": [],
   "source": []
  }
 ],
 "metadata": {
  "kernelspec": {
   "display_name": "Python 3 (ipykernel)",
   "language": "python",
   "name": "python3"
  },
  "language_info": {
   "codemirror_mode": {
    "name": "ipython",
    "version": 3
   },
   "file_extension": ".py",
   "mimetype": "text/x-python",
   "name": "python",
   "nbconvert_exporter": "python",
   "pygments_lexer": "ipython3",
   "version": "3.9.12"
  }
 },
 "nbformat": 4,
 "nbformat_minor": 2
}
