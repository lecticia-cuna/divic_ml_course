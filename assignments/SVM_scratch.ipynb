{
  "nbformat": 4,
  "nbformat_minor": 0,
  "metadata": {
    "kernelspec": {
      "display_name": "Python 3",
      "language": "python",
      "name": "python3"
    },
    "language_info": {
      "codemirror_mode": {
        "name": "ipython",
        "version": 3
      },
      "file_extension": ".py",
      "mimetype": "text/x-python",
      "name": "python",
      "nbconvert_exporter": "python",
      "pygments_lexer": "ipython3",
      "version": "3.7.6"
    },
    "colab": {
      "name": "Sprint 5 - SVM scratch.ipynb",
      "provenance": [],
      "collapsed_sections": []
    }
  },
  "cells": [
    {
      "cell_type": "code",
      "metadata": {
        "id": "87RE8kYyRPy6"
      },
      "source": [
        "# importing the dependencies\n",
        "import numpy as np\n",
        "import pandas as pd"
      ],
      "execution_count": null,
      "outputs": []
    },
    {
      "cell_type": "markdown",
      "metadata": {
        "id": "6OY3cIh4RfC2"
      },
      "source": [
        "# SVM from scratch "
      ]
    },
    {
      "cell_type": "code",
      "metadata": {
        "id": "66_b8Dg-RPzA"
      },
      "source": [
        "class  ScratchSVMClassifier():\n",
        "    def __init__(self, num_iter, lr, kernel= 'linear' , threshold = 1e-5 , verbose = False):\n",
        "        self.iter = num_iter\n",
        "        self.lr = lr\n",
        "        self.verbose = verbose\n",
        "        self.kernel = kernel\n",
        "        self.val_loss = np.zeros(self.iter)\n",
        "        self.threshold = threshold\n",
        "    \n",
        "    def _kernel(self,X1,X2):\n",
        "        if self.kernel == 'linear':\n",
        "            return np.dot(X1,X2.T)\n",
        "        else:\n",
        "            # polynomial kernel\n",
        "            return (1*np.dot(X1,X2.T)+1)**2\n",
        "    \n",
        "    def fit(self, X, y, X_val=None, y_val=None):\n",
        "        \n",
        "        # creating lamda from random data\n",
        "        self.lamda_1 = np.random.rand(len(X))\n",
        "\n",
        "        # Lagrange descent\n",
        "        for i in range(self.iter):\n",
        "            \n",
        "            # updating lamda on each iteration\n",
        "            for i_x in range(len(X)):\n",
        "                counter = 0\n",
        "                for id_x in range(len(X)):\n",
        "                    counter += self.lamda_1[id_x]*y[i_x]*y[id_x]*self._kernel(X[i_x],X[id_x])\n",
        "\n",
        "                self.lamda_1[i_x] += self.lr*(1-counter)\n",
        "\n",
        "                if self.lamda_1[i_x] < 0:\n",
        "                    self.lamda_1[i_x] = 0\n",
        "            \n",
        "            # getting the support vectors\n",
        "            self.X_supportvectors = X[self.lamda_1 > self.threshold]\n",
        "            self.y_supportvectors = y[self.lamda_1 > self.threshold]\n",
        "            self.lamda_supportvectors = self.lamda_1[self.lamda_1 > self.threshold]\n",
        "                    \n",
        "    def predict(self, X):\n",
        "        \n",
        "        y_pred = np.zeros(len(X))\n",
        "        \n",
        "        # predicting using the support vectors\n",
        "        for i in range(len(X)):\n",
        "            counter_sv = 0\n",
        "            for sv in range(len(self.X_supportvectors)):\n",
        "                counter_sv += self.lamda_supportvectors[sv]*self.y_supportvectors[sv]*self._kernel(X[i],self.X_supportvectors[sv])\n",
        "            if counter_sv >= 0:\n",
        "                y_pred[i] = 1\n",
        "            else:\n",
        "                y_pred[i] = 0\n",
        "                \n",
        "        return y_pred"
      ],
      "execution_count": null,
      "outputs": []
    },
    {
      "cell_type": "code",
      "metadata": {
        "id": "hvY5SLSSRPzC"
      },
      "source": [
        "# importing datasets\n",
        "from sklearn import datasets\n",
        "\n",
        "X, y =  datasets.make_blobs(n_samples=50, n_features=2, centers=2, cluster_std=1.05, random_state=40)\n",
        "y = np.where(y == 0, -1, 1)"
      ],
      "execution_count": null,
      "outputs": []
    },
    {
      "cell_type": "code",
      "metadata": {
        "id": "SyP5bowqRPzG"
      },
      "source": [
        "# splitting the data into learning and estimation\n",
        "from sklearn.model_selection import train_test_split\n",
        "\n",
        "X_train, X_test, y_train, y_test = train_test_split(X, y,test_size=0.2)"
      ],
      "execution_count": null,
      "outputs": []
    },
    {
      "cell_type": "code",
      "metadata": {
        "id": "0RpD96SiRPzG",
        "colab": {
          "base_uri": "https://localhost:8080/"
        },
        "outputId": "b6e76fe5-ce2b-48dc-bbed-3e3e8d7980bd"
      },
      "source": [
        "# doing the estimation\n",
        "clf = ScratchSVMClassifier(num_iter=500, lr=0.01, verbose=False)\n",
        "clf.fit(X_train, y_train)\n",
        "y_pred = clf.predict(X_test)\n",
        "y_pred"
      ],
      "execution_count": null,
      "outputs": [
        {
          "output_type": "execute_result",
          "data": {
            "text/plain": [
              "array([0., 0., 0., 1., 1., 0., 1., 0., 0., 1.])"
            ]
          },
          "metadata": {
            "tags": []
          },
          "execution_count": 5
        }
      ]
    },
    {
      "cell_type": "code",
      "metadata": {
        "id": "SBdQGquGRPzI",
        "colab": {
          "base_uri": "https://localhost:8080/"
        },
        "outputId": "50598b60-dd9e-4815-eac8-e1463b195a96"
      },
      "source": [
        "from sklearn.metrics import accuracy_score\n",
        "from sklearn.metrics import precision_score\n",
        "from sklearn.metrics import recall_score\n",
        "from sklearn.metrics import f1_score\n",
        "\n",
        "accuracy = accuracy_score(y_test, y_pred)\n",
        "precision = precision_score(y_test, y_pred, average='weighted')\n",
        "recall = recall_score(y_test, y_pred, average='weighted')\n",
        "f1 = f1_score(y_test, y_pred, average='weighted')\n",
        "\n",
        "print('accuracy',accuracy)\n",
        "print('precision',precision)\n",
        "print('recall',recall)\n",
        "print('f1',f1)"
      ],
      "execution_count": null,
      "outputs": [
        {
          "output_type": "stream",
          "text": [
            "accuracy 0.4\n",
            "precision 0.4\n",
            "recall 0.4\n",
            "f1 0.4\n"
          ],
          "name": "stdout"
        },
        {
          "output_type": "stream",
          "text": [
            "/usr/local/lib/python3.7/dist-packages/sklearn/metrics/_classification.py:1272: UndefinedMetricWarning: Precision is ill-defined and being set to 0.0 in labels with no predicted samples. Use `zero_division` parameter to control this behavior.\n",
            "  _warn_prf(average, modifier, msg_start, len(result))\n",
            "/usr/local/lib/python3.7/dist-packages/sklearn/metrics/_classification.py:1272: UndefinedMetricWarning: Recall is ill-defined and being set to 0.0 in labels with no true samples. Use `zero_division` parameter to control this behavior.\n",
            "  _warn_prf(average, modifier, msg_start, len(result))\n"
          ],
          "name": "stderr"
        }
      ]
    },
    {
      "cell_type": "code",
      "metadata": {
        "id": "Arpc5qRARPzM",
        "colab": {
          "base_uri": "https://localhost:8080/",
          "height": 295
        },
        "outputId": "c5617055-e1eb-4043-c921-3f5c46467304"
      },
      "source": [
        "import matplotlib.pyplot as plt\n",
        "from matplotlib.colors import ListedColormap\n",
        "import matplotlib.patches as mpatches\n",
        "\n",
        "def decision_region(X, y, model, step=0.01, title='decision region', xlabel='xlabel', ylabel='ylabel', target_names=['versicolor', 'virginica']):\n",
        "\n",
        "    # setting\n",
        "    scatter_color = ['red', 'blue']\n",
        "    contourf_color = ['pink', 'skyblue']\n",
        "    n_class = 2\n",
        "\n",
        "    # pred\n",
        "    mesh_f0, mesh_f1  = np.meshgrid(np.arange(np.min(X[:,0])-0.5, np.max(X[:,0])+0.5, step), np.arange(np.min(X[:,1])-0.5, np.max(X[:,1])+0.5, step))\n",
        "    mesh = np.c_[np.ravel(mesh_f0),np.ravel(mesh_f1)]\n",
        "    y_pred = model.predict(mesh).reshape(mesh_f0.shape)\n",
        "\n",
        "    # plot\n",
        "    plt.title(title)\n",
        "    plt.xlabel(xlabel)\n",
        "    plt.ylabel(ylabel)\n",
        "    plt.contourf(mesh_f0, mesh_f1, y_pred, n_class-1, cmap=ListedColormap(contourf_color))\n",
        "    plt.contour(mesh_f0, mesh_f1, y_pred, n_class-1, colors='y', linewidths=3, alpha=0.5)\n",
        "    for i, target in enumerate(set(y)):\n",
        "        plt.scatter(X[y==target][:, 0], X[y==target][:, 1], s=80, color=scatter_color[i], label=target_names[i], marker='o')\n",
        "    patches = [mpatches.Patch(color=scatter_color[i], label=target_names[i]) for i in range(n_class)]\n",
        "    \n",
        "    # displaying the support vectors\n",
        "    plt.scatter(model.X_supportvectors[:,0],model.X_supportvectors[:,1],color='yellow',s=80,label='support vector')\n",
        "    plt.legend(handles=patches)\n",
        "    plt.legend()\n",
        "    plt.show()\n",
        "\n",
        "decision_region(X_train,y_train,clf,title='Train',target_names=['0', ' 1'])"
      ],
      "execution_count": null,
      "outputs": [
        {
          "output_type": "display_data",
          "data": {
            "image/png": "[encoded data removed]",
            "text/plain": [
              "<Figure size 432x288 with 1 Axes>"
            ]
          },
          "metadata": {
            "tags": [],
            "needs_background": "light"
          }
        }
      ]
    },
    {
      "cell_type": "code",
      "metadata": {
        "id": "H8E3AKuDRPzO",
        "colab": {
          "base_uri": "https://localhost:8080/"
        },
        "outputId": "eb714245-ffe7-489e-d8f5-c839b06d8032"
      },
      "source": [
        "clf = ScratchSVMClassifier(num_iter=500, lr=0.01, kernel= 'polynomial',verbose=False)\n",
        "clf.fit(X_train, y_train)\n",
        "y_pred = clf.predict(X_test)\n",
        "y_pred"
      ],
      "execution_count": null,
      "outputs": [
        {
          "output_type": "execute_result",
          "data": {
            "text/plain": [
              "array([0., 0., 0., 1., 1., 0., 0., 0., 0., 1.])"
            ]
          },
          "metadata": {
            "tags": []
          },
          "execution_count": 8
        }
      ]
    },
    {
      "cell_type": "code",
      "metadata": {
        "id": "3yU_YhKX9f-s"
      },
      "source": [
        ""
      ],
      "execution_count": null,
      "outputs": []
    }
  ]
}