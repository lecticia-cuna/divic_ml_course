{
  "nbformat": 4,
  "nbformat_minor": 0,
  "metadata": {
    "kernelspec": {
      "display_name": "Python 3",
      "language": "python",
      "name": "python3"
    },
    "language_info": {
      "codemirror_mode": {
        "name": "ipython",
        "version": 3
      },
      "file_extension": ".py",
      "mimetype": "text/x-python",
      "name": "python",
      "nbconvert_exporter": "python",
      "pygments_lexer": "ipython3",
      "version": "3.8.5"
    },
    "colab": {
      "name": "Sprint 6 - Decision tree scratch.ipynb",
      "provenance": [],
      "collapsed_sections": []
    }
  },
  "cells": [
    {
      "cell_type": "markdown",
      "metadata": {
        "id": "ZSUFacs9SvPJ"
      },
      "source": [
        "# Decision tree scratch"
      ]
    },
    {
      "cell_type": "code",
      "metadata": {
        "id": "skxJQdZbSvPO"
      },
      "source": [
        "# import dependencies\n",
        "import numpy as np\n",
        "import pandas as pd\n",
        "from collections import Counter\n",
        "from sklearn import datasets\n",
        "from sklearn.model_selection import train_test_split\n",
        "from sklearn.tree import DecisionTreeClassifier\n",
        "from sklearn.metrics import accuracy_score\n",
        "from sklearn.metrics import precision_score\n",
        "from sklearn.metrics import recall_score\n",
        "from sklearn.metrics import f1_score\n",
        "import matplotlib.pyplot as plt\n",
        "from matplotlib.colors import ListedColormap\n",
        "import matplotlib.patches as mpatches"
      ],
      "execution_count": null,
      "outputs": []
    },
    {
      "cell_type": "code",
      "metadata": {
        "id": "3kjiY8pDSvPQ"
      },
      "source": [
        "# entropy function as a global function\n",
        "def entropy(y):\n",
        "    # calculate the number of occurences of all class labels\n",
        "    hist = np.bincount(y)\n",
        "    ps = hist/ len(y)\n",
        "    # apply the formula for entropy\n",
        "    return -np.sum([p*np.log2(p) for p in ps if p>0])\n",
        "\n",
        "# gini as a global function\n",
        "def gini(y):\n",
        "    unique,count = np.unique(y,return_counts=True)\n",
        "    tmp = 0\n",
        "    for i in unique:\n",
        "        tmp += (count[unique==i]/np.sum(count))**2\n",
        "    return 1-tmp\n",
        "\n",
        "# a helper class to store information of the node\n",
        "class Node:\n",
        "    def __init__(self, feature=None, threshold=None,left=None,right=None,*,value=None):\n",
        "        self.feature = feature\n",
        "        self.threshold = threshold\n",
        "        self.left = left\n",
        "        self.right = right\n",
        "        self.value = value\n",
        "    \n",
        "    # a helper function to determine if we are at the leafnode\n",
        "    def is_leaf_node(self):\n",
        "        return self.value is not None\n",
        "\n",
        "# decision tree class\n",
        "class ScratchDecesionTreeClassifier():\n",
        "    def __init__(self, min_samples_split=2, max_depth=100, n_feats=None):\n",
        "        self.min_samples_split = min_samples_split\n",
        "        self.max_depth = max_depth\n",
        "        self.n_feats = n_feats\n",
        "        # a root so that we can know where we started\n",
        "        self.root = None\n",
        "        \n",
        "    def fit(self, X,y):\n",
        "        # grow tree\n",
        "        # apply a safety check\n",
        "        self.n_feats = X.shape[1] if not self.n_feats else min(self.n_feats, X.shape[1])\n",
        "        self.root = self._grow_tree(X, y)\n",
        "        \n",
        "    # function to grow the tree\n",
        "    def _grow_tree(self, X, y, depth=0):\n",
        "        n_samples, n_features = X.shape\n",
        "        n_labels = len(np.unique(y))\n",
        "        \n",
        "        # apply the stopping criteria of our growing tree\n",
        "        if(depth >= self.max_depth\n",
        "          or n_labels == 1\n",
        "          or n_samples < self.min_samples_split):\n",
        "            # if the condition is true that would mean that we are at the leaf node\n",
        "            # check for the common label in our node\n",
        "            leaf_value = self._most_common_label(y)\n",
        "            # use our class to store the node information\n",
        "            return Node(value=leaf_value)\n",
        "        \n",
        "        # if we did not meet the stopping criteria\n",
        "        feat_idxs = np.random.choice(n_features, self.n_feats,replace=False)\n",
        "        \n",
        "        # do a greedy search\n",
        "        best_feat, best_thresh = self._best_criteria(X, y, feat_idxs)\n",
        "        left_idxs, right_idxs = self._split(X[:,best_feat], best_thresh)\n",
        "        \n",
        "        # continue growing\n",
        "        left = self._grow_tree(X[left_idxs,:], y[left_idxs], depth+1)\n",
        "        right = self._grow_tree(X[right_idxs,:], y[right_idxs], depth+1)\n",
        "        \n",
        "        node = Node(best_feat, best_thresh, left, right)\n",
        "        return node\n",
        "        \n",
        "        \n",
        "        \n",
        "    def _best_criteria(self, X, y, feat_idxs):\n",
        "        best_gain = -1\n",
        "        split_idxs, split_thresh = None, None\n",
        "        for feat_idx in feat_idxs:\n",
        "            X_column = X[:, feat_idx]\n",
        "            # lets go over all threshold\n",
        "            thresholds = np.unique(X_column)\n",
        "            for threshold in thresholds:\n",
        "                # calculating the information gain\n",
        "                gain = self._information_gain(y, X_column, threshold)\n",
        "                if gain > best_gain:\n",
        "                    best_gain = gain\n",
        "                    split_idx = feat_idx\n",
        "                    split_thresh = threshold\n",
        "        return split_idx, split_thresh\n",
        "    \n",
        "    # a function to calculate the information gain\n",
        "    def _information_gain(self, y, X_column, split_thresh):\n",
        "        # calculate the parent entropy\n",
        "        parent_gini = gini(y)\n",
        "        \n",
        "        # generate split\n",
        "        left_idxs, right_idxs = self._split(X_column, split_thresh)\n",
        "        \n",
        "        if len(left_idxs) == 0 or len(right_idxs)==0:\n",
        "            return 0\n",
        "        \n",
        "        # calculate the weighted average child entropy\n",
        "        n = len(y)\n",
        "        n_l, n_r = len(left_idxs), len(right_idxs)\n",
        "        e_g, e_g = gini(y[left_idxs]), gini(y[right_idxs])\n",
        "        child_gini = (n_l/n) * e_g + (n_r/n) *e_g\n",
        "        \n",
        "        # calculating the information gain\n",
        "        ig = parent_gini - child_gini\n",
        "        return ig\n",
        "        \n",
        "    def _split(self, X_column, split_thresh):\n",
        "        left_idxs = np.argwhere(X_column <= split_thresh).flatten()\n",
        "        right_idxs = np.argwhere(X_column > split_thresh).flatten()\n",
        "        return left_idxs, right_idxs\n",
        "    \n",
        "    def predict(self, X):\n",
        "        # traverse our tree\n",
        "        return np.array([self._traverse_tree(x, self.root) for x in X])\n",
        "    \n",
        "    # a function helper for prediction\n",
        "    def _traverse_tree(self, x, node):\n",
        "        # check for the stopping criteria\n",
        "        if node.is_leaf_node():\n",
        "            return node.value\n",
        "        # check if we go from left or right\n",
        "        if x[node.feature] <= node.threshold:\n",
        "            return self._traverse_tree(x, node.left)\n",
        "        return self._traverse_tree(x, node.right)\n",
        "    \n",
        "    # function to check the common label in our node\n",
        "    def _most_common_label(self, y):\n",
        "        # calculating the number of occurencies in y using counter\n",
        "        counter = Counter(y)\n",
        "        # getting the value of the most common label\n",
        "        most_common = counter.most_common(1)[0][0]\n",
        "        return most_common"
      ],
      "execution_count": null,
      "outputs": []
    },
    {
      "cell_type": "code",
      "metadata": {
        "id": "rRJlxck2SvPT"
      },
      "source": [
        "data = datasets.load_breast_cancer()\n",
        "X = data.data\n",
        "y = data.target"
      ],
      "execution_count": null,
      "outputs": []
    },
    {
      "cell_type": "code",
      "metadata": {
        "id": "rlLkQUJvSvPV"
      },
      "source": [
        "# splitting the data\n",
        "X_train, X_test, y_train, y_test = train_test_split(X, y, test_size=0.2, random_state=1234)"
      ],
      "execution_count": null,
      "outputs": []
    },
    {
      "cell_type": "code",
      "metadata": {
        "id": "ZmyFuZINSvPW"
      },
      "source": [
        "# training our classifier\n",
        "clf = ScratchDecesionTreeClassifier(max_depth=2)\n",
        "clf.fit(X_train, y_train)"
      ],
      "execution_count": null,
      "outputs": []
    },
    {
      "cell_type": "code",
      "metadata": {
        "id": "-dNbBgFISvPX"
      },
      "source": [
        "# predicting\n",
        "y_pred = clf.predict(X_test)"
      ],
      "execution_count": null,
      "outputs": []
    },
    {
      "cell_type": "code",
      "metadata": {
        "id": "e-gBRc6zSvPY",
        "colab": {
          "base_uri": "https://localhost:8080/"
        },
        "outputId": "bf12dc47-6ed2-49d0-d989-f7f8a76ee435"
      },
      "source": [
        "accuracy = accuracy_score(y_test, y_pred)\n",
        "precision = precision_score(y_test, y_pred)\n",
        "recall = recall_score(y_test, y_pred)\n",
        "f1 = f1_score(y_test, y_pred)\n",
        "\n",
        "print('accuracy',accuracy)\n",
        "print('precision',precision)\n",
        "print('recall',recall)\n",
        "print('f1',f1)"
      ],
      "execution_count": null,
      "outputs": [
        {
          "output_type": "stream",
          "text": [
            "accuracy 0.6052631578947368\n",
            "precision 0.6052631578947368\n",
            "recall 1.0\n",
            "f1 0.7540983606557378\n"
          ],
          "name": "stdout"
        }
      ]
    },
    {
      "cell_type": "markdown",
      "metadata": {
        "id": "Jd-ofi6VSvPZ"
      },
      "source": [
        "# [Problem 1] Function for finding impureness\n",
        "\n",
        "The Gini impurity function is implemented in the class above"
      ]
    },
    {
      "cell_type": "markdown",
      "metadata": {
        "id": "rOMJ-cIrSvPZ"
      },
      "source": [
        "# [Problem 2] Function for finding information gain\n",
        "\n",
        "The Information gain function is implemented in the classifier above"
      ]
    },
    {
      "cell_type": "markdown",
      "metadata": {
        "id": "0maJFmZzSvPa"
      },
      "source": [
        "# [Problem 3] Learning\n",
        "\n",
        "Here we write the code to split the space and generate a graph of the decision tree. Since it is a decision tree with a depth of 1, we will divide it only once."
      ]
    },
    {
      "cell_type": "code",
      "metadata": {
        "id": "46mrWqZtSvPa"
      },
      "source": [
        "# training our classifier\n",
        "clf_1 = ScratchDecesionTreeClassifier(max_depth=1)\n",
        "clf_1.fit(X_train, y_train)"
      ],
      "execution_count": null,
      "outputs": []
    },
    {
      "cell_type": "code",
      "metadata": {
        "id": "DhOFHNzBSvPa"
      },
      "source": [
        "# predicting\n",
        "y_pred_1 = clf_1.predict(X_test)"
      ],
      "execution_count": null,
      "outputs": []
    },
    {
      "cell_type": "code",
      "metadata": {
        "id": "nsK4hmQdSvPb",
        "colab": {
          "base_uri": "https://localhost:8080/",
          "height": 537
        },
        "outputId": "e43aa483-b82a-425e-87a7-76c2f74018d2"
      },
      "source": [
        "fig,ax = plt.subplots(figsize=(16,9))\n",
        "\n",
        "plt.rcParams[\"font.size\"] = 20\n",
        "plt.scatter(X_train[:,0],y_train,label=\"Train\")\n",
        "plt.scatter(X_test[:,0],y_pred_1,label=\"Predict\")\n",
        "plt.legend()\n",
        "plt.plot();"
      ],
      "execution_count": null,
      "outputs": [
        {
          "output_type": "display_data",
          "data": {
            "image/png": "[encoded data removed]",
            "text/plain": [
              "<Figure size 1152x648 with 1 Axes>"
            ]
          },
          "metadata": {
            "tags": [],
            "needs_background": "light"
          }
        }
      ]
    },
    {
      "cell_type": "markdown",
      "metadata": {
        "id": "VLP-gF3USvPb"
      },
      "source": [
        "# [Problem 4] Estimate"
      ]
    },
    {
      "cell_type": "markdown",
      "metadata": {
        "id": "WczhHuLvSvPb"
      },
      "source": [
        "# [Problem 5] Learning and estimation"
      ]
    },
    {
      "cell_type": "code",
      "metadata": {
        "id": "S_hUirumSvPc",
        "colab": {
          "base_uri": "https://localhost:8080/"
        },
        "outputId": "4c7c9012-fb6e-4aa1-ff9e-ac926d274bf3"
      },
      "source": [
        "accuracy = accuracy_score(y_test, y_pred)\n",
        "precision = precision_score(y_test, y_pred)\n",
        "recall = recall_score(y_test, y_pred)\n",
        "f1 = f1_score(y_test, y_pred)\n",
        "\n",
        "print('accuracy',accuracy)\n",
        "print('precision',precision)\n",
        "print('recall',recall)\n",
        "print('f1',f1)"
      ],
      "execution_count": null,
      "outputs": [
        {
          "output_type": "stream",
          "text": [
            "accuracy 0.6052631578947368\n",
            "precision 0.6052631578947368\n",
            "recall 1.0\n",
            "f1 0.7540983606557378\n"
          ],
          "name": "stdout"
        }
      ]
    },
    {
      "cell_type": "markdown",
      "metadata": {
        "id": "-pwWAEIdSvPd"
      },
      "source": [
        "# [Problem 6] Visualization of decision area"
      ]
    },
    {
      "cell_type": "code",
      "metadata": {
        "id": "6HawreUQSvPd"
      },
      "source": [
        "clf_2 = ScratchDecesionTreeClassifier(max_depth=10)\n",
        "clf_2.fit(X_train[:,:2], y_train)"
      ],
      "execution_count": null,
      "outputs": []
    },
    {
      "cell_type": "code",
      "metadata": {
        "scrolled": true,
        "id": "iguPKZ3ESvPd",
        "colab": {
          "base_uri": "https://localhost:8080/",
          "height": 322
        },
        "outputId": "8205dfce-4c00-424a-ae5a-8f775b91f2a3"
      },
      "source": [
        "# displaying the decision area\n",
        "def decision_region(X, y, model, step=0.01, title='decision region', xlabel='xlabel', ylabel='ylabel', target_names=['versicolor', 'virginica']):\n",
        "    # setting\n",
        "    scatter_color = ['red', 'blue']\n",
        "    contourf_color = ['pink', 'skyblue']\n",
        "    n_class = 2\n",
        "    # pred\n",
        "    mesh_f0, mesh_f1  = np.meshgrid(np.arange(np.min(X[:,0])-0.5, np.max(X[:,0])+0.5, step), np.arange(np.min(X[:,1])-0.5, np.max(X[:,1])+0.5, step))\n",
        "    mesh = np.c_[np.ravel(mesh_f0),np.ravel(mesh_f1)]\n",
        "    y_pred = model.predict(mesh).reshape(mesh_f0.shape)\n",
        "    # plot\n",
        "    plt.title(title)\n",
        "    plt.xlabel(xlabel)\n",
        "    plt.ylabel(ylabel)\n",
        "    plt.contourf(mesh_f0, mesh_f1, y_pred, n_class-1, cmap=ListedColormap(contourf_color))\n",
        "    plt.contour(mesh_f0, mesh_f1, y_pred, n_class-1, colors='y', linewidths=3, alpha=0.5)\n",
        "    for i, target in enumerate(set(y)):\n",
        "        plt.scatter(X[y==target][:, 0], X[y==target][:, 1], s=80, color=scatter_color[i], label=target_names[i], marker='o')\n",
        "    patches = [mpatches.Patch(color=scatter_color[i], label=target_names[i]) for i in range(n_class)]\n",
        "    plt.legend(handles=patches)\n",
        "    plt.legend()\n",
        "    plt.show()\n",
        "    \n",
        "decision_region(X_train[:,:2],y_train,clf_2,title='Train',target_names=['0', ' 1'])"
      ],
      "execution_count": null,
      "outputs": [
        {
          "output_type": "display_data",
          "data": {
            "image/png": "[encoded data removed]",
            "text/plain": [
              "<Figure size 432x288 with 1 Axes>"
            ]
          },
          "metadata": {
            "tags": [],
            "needs_background": "light"
          }
        }
      ]
    },
    {
      "cell_type": "markdown",
      "metadata": {
        "id": "BsEH9uDPSvPd"
      },
      "source": [
        "# [Problem 7] (Advance assignment) Creation of a decision tree classifier class with a depth of 2"
      ]
    },
    {
      "cell_type": "code",
      "metadata": {
        "id": "VCTINaNySvPe",
        "colab": {
          "base_uri": "https://localhost:8080/"
        },
        "outputId": "79ab98db-838d-4197-eda1-31f604fe8fd7"
      },
      "source": [
        "clf_d2 = ScratchDecesionTreeClassifier(max_depth=2)\n",
        "clf_d2.fit(X_train, y_train)\n",
        "clf_d2.predict(X_test)"
      ],
      "execution_count": null,
      "outputs": [
        {
          "output_type": "execute_result",
          "data": {
            "text/plain": [
              "array([1, 1, 1, 1, 1, 1, 1, 1, 0, 0, 0, 1, 1, 1, 1, 0, 1, 1, 1, 0, 1, 1,\n",
              "       0, 0, 0, 1, 1, 1, 1, 1, 1, 1, 0, 1, 1, 1, 1, 1, 1, 1, 0, 1, 0, 1,\n",
              "       1, 1, 1, 1, 0, 1, 1, 1, 1, 0, 1, 1, 1, 1, 1, 0, 1, 1, 1, 1, 1, 1,\n",
              "       0, 1, 1, 1, 1, 0, 1, 0, 1, 1, 1, 1, 1, 0, 1, 1, 1, 1, 0, 0, 1, 1,\n",
              "       1, 1, 1, 1, 1, 0, 0, 1, 1, 1, 1, 1, 0, 0, 1, 1, 1, 1, 1, 1, 0, 1,\n",
              "       1, 1, 1, 0])"
            ]
          },
          "metadata": {
            "tags": []
          },
          "execution_count": 15
        }
      ]
    },
    {
      "cell_type": "markdown",
      "metadata": {
        "id": "CtQKRGfzSvPe"
      },
      "source": [
        "# [Problem 8] (Advance assignment) Creation of decision tree classifier class with unlimited depth"
      ]
    },
    {
      "cell_type": "code",
      "metadata": {
        "id": "x5cdf9qHSvPe"
      },
      "source": [
        "clf_di = ScratchDecesionTreeClassifier()\n",
        "clf_di.fit(X_train, y_train)\n",
        "clf_di.predict(X_test)"
      ],
      "execution_count": null,
      "outputs": []
    },
    {
      "cell_type": "code",
      "metadata": {
        "id": "4hzaRgQaR-NK"
      },
      "source": [
        ""
      ],
      "execution_count": null,
      "outputs": []
    }
  ]
}